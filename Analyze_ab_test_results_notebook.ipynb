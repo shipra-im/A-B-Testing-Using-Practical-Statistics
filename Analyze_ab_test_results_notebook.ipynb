{
 "cells": [
  {
   "cell_type": "markdown",
   "metadata": {},
   "source": [
    "## Analyze A/B Test Results\n",
    "\n",
    "You may either submit your notebook through the workspace here, or you may work from your local machine and submit through the next page.  Either way assure that your code passes the project [RUBRIC](https://review.udacity.com/#!/projects/37e27304-ad47-4eb0-a1ab-8c12f60e43d0/rubric).  **Please save regularly\n",
    "\n",
    "This project will assure you have mastered the subjects covered in the statistics lessons.  The hope is to have this project be as comprehensive of these topics as possible.  Good luck!\n",
    "\n",
    "## Table of Contents\n",
    "- [Introduction](#intro)\n",
    "- [Part I - Probability](#probability)\n",
    "- [Part II - A/B Test](#ab_test)\n",
    "- [Part III - Regression](#regression)\n",
    "\n",
    "\n",
    "<a id='intro'></a>\n",
    "### Introduction\n",
    "\n",
    "A/B tests are very commonly performed by data analysts and data scientists.  It is important that you get some practice working with the difficulties of these \n",
    "\n",
    "For this project, you will be working to understand the results of an A/B test run by an e-commerce website.  Your goal is to work through this notebook to help the company understand if they should implement the new page, keep the old page, or perhaps run the experiment longer to make their decision.\n",
    "\n",
    "**As you work through this notebook, follow along in the classroom and answer the corresponding quiz questions associated with each question.** The labels for each classroom concept are provided for each question.  This will assure you are on the right track as you work through the project, and you can feel more confident in your final submission meeting the criteria.  As a final check, assure you meet all the criteria on the [RUBRIC](https://review.udacity.com/#!/projects/37e27304-ad47-4eb0-a1ab-8c12f60e43d0/rubric).\n",
    "\n",
    "<a id='probability'></a>\n",
    "#### Part I - Probability\n",
    "\n",
    "To get started, let's import our libraries."
   ]
  },
  {
   "cell_type": "code",
   "execution_count": 1,
   "metadata": {},
   "outputs": [],
   "source": [
    "import pandas as pd\n",
    "import numpy as np\n",
    "import random\n",
    "import matplotlib.pyplot as plt\n",
    "%matplotlib inline\n",
    "#We are setting the seed to assure you get the same answers on quizzes as we set up\n",
    "random.seed(42)"
   ]
  },
  {
   "cell_type": "markdown",
   "metadata": {},
   "source": [
    "`1.` Now, read in the `ab_data.csv` data. Store it in `df`.  **Use your dataframe to answer the questions in Quiz 1 of the classroom.**\n",
    "\n",
    "a. Read in the dataset and take a look at the top few rows here:"
   ]
  },
  {
   "cell_type": "code",
   "execution_count": 2,
   "metadata": {},
   "outputs": [
    {
     "data": {
      "text/html": [
       "<div>\n",
       "<style>\n",
       "    .dataframe thead tr:only-child th {\n",
       "        text-align: right;\n",
       "    }\n",
       "\n",
       "    .dataframe thead th {\n",
       "        text-align: left;\n",
       "    }\n",
       "\n",
       "    .dataframe tbody tr th {\n",
       "        vertical-align: top;\n",
       "    }\n",
       "</style>\n",
       "<table border=\"1\" class=\"dataframe\">\n",
       "  <thead>\n",
       "    <tr style=\"text-align: right;\">\n",
       "      <th></th>\n",
       "      <th>user_id</th>\n",
       "      <th>timestamp</th>\n",
       "      <th>group</th>\n",
       "      <th>landing_page</th>\n",
       "      <th>converted</th>\n",
       "    </tr>\n",
       "  </thead>\n",
       "  <tbody>\n",
       "    <tr>\n",
       "      <th>0</th>\n",
       "      <td>851104</td>\n",
       "      <td>2017-01-21 22:11:48.556739</td>\n",
       "      <td>control</td>\n",
       "      <td>old_page</td>\n",
       "      <td>0</td>\n",
       "    </tr>\n",
       "    <tr>\n",
       "      <th>1</th>\n",
       "      <td>804228</td>\n",
       "      <td>2017-01-12 08:01:45.159739</td>\n",
       "      <td>control</td>\n",
       "      <td>old_page</td>\n",
       "      <td>0</td>\n",
       "    </tr>\n",
       "    <tr>\n",
       "      <th>2</th>\n",
       "      <td>661590</td>\n",
       "      <td>2017-01-11 16:55:06.154213</td>\n",
       "      <td>treatment</td>\n",
       "      <td>new_page</td>\n",
       "      <td>0</td>\n",
       "    </tr>\n",
       "    <tr>\n",
       "      <th>3</th>\n",
       "      <td>853541</td>\n",
       "      <td>2017-01-08 18:28:03.143765</td>\n",
       "      <td>treatment</td>\n",
       "      <td>new_page</td>\n",
       "      <td>0</td>\n",
       "    </tr>\n",
       "    <tr>\n",
       "      <th>4</th>\n",
       "      <td>864975</td>\n",
       "      <td>2017-01-21 01:52:26.210827</td>\n",
       "      <td>control</td>\n",
       "      <td>old_page</td>\n",
       "      <td>1</td>\n",
       "    </tr>\n",
       "  </tbody>\n",
       "</table>\n",
       "</div>"
      ],
      "text/plain": [
       "   user_id                   timestamp      group landing_page  converted\n",
       "0   851104  2017-01-21 22:11:48.556739    control     old_page          0\n",
       "1   804228  2017-01-12 08:01:45.159739    control     old_page          0\n",
       "2   661590  2017-01-11 16:55:06.154213  treatment     new_page          0\n",
       "3   853541  2017-01-08 18:28:03.143765  treatment     new_page          0\n",
       "4   864975  2017-01-21 01:52:26.210827    control     old_page          1"
      ]
     },
     "execution_count": 2,
     "metadata": {},
     "output_type": "execute_result"
    }
   ],
   "source": [
    "df=pd.read_csv('ab_data.csv')\n",
    "df.head()"
   ]
  },
  {
   "cell_type": "markdown",
   "metadata": {},
   "source": [
    "b. Use the below cell to find the number of rows in the dataset."
   ]
  },
  {
   "cell_type": "code",
   "execution_count": 3,
   "metadata": {},
   "outputs": [
    {
     "name": "stdout",
     "output_type": "stream",
     "text": [
      "<class 'pandas.core.frame.DataFrame'>\n",
      "RangeIndex: 294478 entries, 0 to 294477\n",
      "Data columns (total 5 columns):\n",
      "user_id         294478 non-null int64\n",
      "timestamp       294478 non-null object\n",
      "group           294478 non-null object\n",
      "landing_page    294478 non-null object\n",
      "converted       294478 non-null int64\n",
      "dtypes: int64(2), object(3)\n",
      "memory usage: 11.2+ MB\n"
     ]
    }
   ],
   "source": [
    "df.info()"
   ]
  },
  {
   "cell_type": "markdown",
   "metadata": {},
   "source": [
    "c. The number of unique users in the dataset."
   ]
  },
  {
   "cell_type": "code",
   "execution_count": 4,
   "metadata": {},
   "outputs": [
    {
     "data": {
      "text/plain": [
       "290584"
      ]
     },
     "execution_count": 4,
     "metadata": {},
     "output_type": "execute_result"
    }
   ],
   "source": [
    "len(df['user_id'].unique())"
   ]
  },
  {
   "cell_type": "markdown",
   "metadata": {
    "collapsed": true
   },
   "source": [
    "d. The proportion of users converted."
   ]
  },
  {
   "cell_type": "code",
   "execution_count": 5,
   "metadata": {},
   "outputs": [
    {
     "data": {
      "text/plain": [
       "0.11965919355605512"
      ]
     },
     "execution_count": 5,
     "metadata": {},
     "output_type": "execute_result"
    }
   ],
   "source": [
    "(df['converted']==1).mean()"
   ]
  },
  {
   "cell_type": "markdown",
   "metadata": {
    "collapsed": true
   },
   "source": [
    "e. The number of times the `new_page` and `treatment` don't line up."
   ]
  },
  {
   "cell_type": "code",
   "execution_count": 6,
   "metadata": {},
   "outputs": [
    {
     "data": {
      "text/plain": [
       "3893"
      ]
     },
     "execution_count": 6,
     "metadata": {},
     "output_type": "execute_result"
    }
   ],
   "source": [
    "#df.count()[0]-df.query(\"group == 'treatment' and landing_page == 'new_page'\").count()[0]\n",
    "df.loc[(((df['group']=='treatment') & (df['landing_page'] !='new_page')) | ((df['group']!='treatment')&(df['landing_page']=='new_page')) )].count()[0]\n",
    "\n",
    "\n",
    "#group == 'treatment' where landing_page != 'new_page'\n",
    "#group != 'treatment' where landing_page == 'new_page'"
   ]
  },
  {
   "cell_type": "markdown",
   "metadata": {},
   "source": [
    "f. Do any of the rows have missing values?"
   ]
  },
  {
   "cell_type": "code",
   "execution_count": 7,
   "metadata": {},
   "outputs": [
    {
     "data": {
      "text/plain": [
       "user_id         0\n",
       "timestamp       0\n",
       "group           0\n",
       "landing_page    0\n",
       "converted       0\n",
       "dtype: int64"
      ]
     },
     "execution_count": 7,
     "metadata": {},
     "output_type": "execute_result"
    }
   ],
   "source": [
    "df.isnull().sum()"
   ]
  },
  {
   "cell_type": "markdown",
   "metadata": {},
   "source": [
    "`2.` For the rows where **treatment** is not aligned with **new_page** or **control** is not aligned with **old_page**, we cannot be sure if this row truly received the new or old page.  Use **Quiz 2** in the classroom to provide how we should handle these rows.  \n",
    "\n",
    "a. Now use the answer to the quiz to create a new dataset that meets the specifications from the quiz.  Store your new dataframe in **df2**."
   ]
  },
  {
   "cell_type": "code",
   "execution_count": 8,
   "metadata": {},
   "outputs": [],
   "source": [
    "df2 = df.loc[(((df['group']=='treatment') & (df['landing_page'] =='new_page')) | ((df['group']=='control')&(df['landing_page']=='old_page')) )]\n",
    "\n"
   ]
  },
  {
   "cell_type": "code",
   "execution_count": 9,
   "metadata": {},
   "outputs": [
    {
     "name": "stdout",
     "output_type": "stream",
     "text": [
      "<class 'pandas.core.frame.DataFrame'>\n",
      "Int64Index: 290585 entries, 0 to 294477\n",
      "Data columns (total 5 columns):\n",
      "user_id         290585 non-null int64\n",
      "timestamp       290585 non-null object\n",
      "group           290585 non-null object\n",
      "landing_page    290585 non-null object\n",
      "converted       290585 non-null int64\n",
      "dtypes: int64(2), object(3)\n",
      "memory usage: 13.3+ MB\n"
     ]
    }
   ],
   "source": [
    "df2.info()"
   ]
  },
  {
   "cell_type": "code",
   "execution_count": 10,
   "metadata": {},
   "outputs": [
    {
     "data": {
      "text/plain": [
       "treatment    145311\n",
       "control      145274\n",
       "Name: group, dtype: int64"
      ]
     },
     "execution_count": 10,
     "metadata": {},
     "output_type": "execute_result"
    }
   ],
   "source": [
    "df2['group'].value_counts()"
   ]
  },
  {
   "cell_type": "code",
   "execution_count": 11,
   "metadata": {},
   "outputs": [
    {
     "data": {
      "text/plain": [
       "0"
      ]
     },
     "execution_count": 11,
     "metadata": {},
     "output_type": "execute_result"
    }
   ],
   "source": [
    "# Double Check all of the correct rows were removed - this should be 0\n",
    "df2.query((\"group=='treatment' and landing_page!='new_page'\") or (\"group=='control' and landing_page!='old_page'\")).shape[0]\n"
   ]
  },
  {
   "cell_type": "markdown",
   "metadata": {},
   "source": [
    "`3.` Use **df2** and the cells below to answer questions for **Quiz3** in the classroom."
   ]
  },
  {
   "cell_type": "markdown",
   "metadata": {},
   "source": [
    "a. How many unique **user_id**s are in **df2**?"
   ]
  },
  {
   "cell_type": "code",
   "execution_count": 12,
   "metadata": {},
   "outputs": [
    {
     "data": {
      "text/plain": [
       "290584"
      ]
     },
     "execution_count": 12,
     "metadata": {},
     "output_type": "execute_result"
    }
   ],
   "source": [
    "len(df2['user_id'].unique())"
   ]
  },
  {
   "cell_type": "markdown",
   "metadata": {
    "collapsed": true
   },
   "source": [
    "b. There is one **user_id** repeated in **df2**.  What is it?"
   ]
  },
  {
   "cell_type": "code",
   "execution_count": 13,
   "metadata": {},
   "outputs": [
    {
     "data": {
      "text/plain": [
       "[773192]"
      ]
     },
     "execution_count": 13,
     "metadata": {},
     "output_type": "execute_result"
    }
   ],
   "source": [
    "df2.set_index('user_id').index.get_duplicates() "
   ]
  },
  {
   "cell_type": "markdown",
   "metadata": {},
   "source": [
    "c. What is the row information for the repeat **user_id**? "
   ]
  },
  {
   "cell_type": "code",
   "execution_count": 14,
   "metadata": {},
   "outputs": [
    {
     "data": {
      "text/html": [
       "<div>\n",
       "<style>\n",
       "    .dataframe thead tr:only-child th {\n",
       "        text-align: right;\n",
       "    }\n",
       "\n",
       "    .dataframe thead th {\n",
       "        text-align: left;\n",
       "    }\n",
       "\n",
       "    .dataframe tbody tr th {\n",
       "        vertical-align: top;\n",
       "    }\n",
       "</style>\n",
       "<table border=\"1\" class=\"dataframe\">\n",
       "  <thead>\n",
       "    <tr style=\"text-align: right;\">\n",
       "      <th></th>\n",
       "      <th>user_id</th>\n",
       "      <th>timestamp</th>\n",
       "      <th>group</th>\n",
       "      <th>landing_page</th>\n",
       "      <th>converted</th>\n",
       "    </tr>\n",
       "  </thead>\n",
       "  <tbody>\n",
       "    <tr>\n",
       "      <th>2893</th>\n",
       "      <td>773192</td>\n",
       "      <td>2017-01-14 02:55:59.590927</td>\n",
       "      <td>treatment</td>\n",
       "      <td>new_page</td>\n",
       "      <td>0</td>\n",
       "    </tr>\n",
       "  </tbody>\n",
       "</table>\n",
       "</div>"
      ],
      "text/plain": [
       "      user_id                   timestamp      group landing_page  converted\n",
       "2893   773192  2017-01-14 02:55:59.590927  treatment     new_page          0"
      ]
     },
     "execution_count": 14,
     "metadata": {},
     "output_type": "execute_result"
    }
   ],
   "source": [
    "dups =df2[df2.duplicated(subset='user_id')]\n",
    "dups\n"
   ]
  },
  {
   "cell_type": "markdown",
   "metadata": {},
   "source": [
    "d. Remove **one** of the rows with a duplicate **user_id**, but keep your dataframe as **df2**."
   ]
  },
  {
   "cell_type": "code",
   "execution_count": 15,
   "metadata": {},
   "outputs": [
    {
     "name": "stderr",
     "output_type": "stream",
     "text": [
      "/opt/conda/lib/python3.6/site-packages/ipykernel_launcher.py:1: SettingWithCopyWarning: \n",
      "A value is trying to be set on a copy of a slice from a DataFrame\n",
      "\n",
      "See the caveats in the documentation: http://pandas.pydata.org/pandas-docs/stable/indexing.html#indexing-view-versus-copy\n",
      "  \"\"\"Entry point for launching an IPython kernel.\n"
     ]
    }
   ],
   "source": [
    "df2.drop_duplicates(['user_id'],inplace=True)"
   ]
  },
  {
   "cell_type": "markdown",
   "metadata": {},
   "source": [
    "`4.` Use **df2** in the below cells to answer the quiz questions related to **Quiz 4** in the classroom.\n",
    "\n",
    "a. What is the probability of an individual converting regardless of the page they receive?"
   ]
  },
  {
   "cell_type": "code",
   "execution_count": 16,
   "metadata": {},
   "outputs": [
    {
     "data": {
      "text/plain": [
       "0.11959708724499628"
      ]
     },
     "execution_count": 16,
     "metadata": {},
     "output_type": "execute_result"
    }
   ],
   "source": [
    "prob=df2.query('converted==1').count()[0]/df2.count()[0]\n",
    "prob"
   ]
  },
  {
   "cell_type": "markdown",
   "metadata": {},
   "source": [
    "b. Given that an individual was in the `control` group, what is the probability they converted?"
   ]
  },
  {
   "cell_type": "code",
   "execution_count": 17,
   "metadata": {},
   "outputs": [
    {
     "data": {
      "text/plain": [
       "0.1203863045004612"
      ]
     },
     "execution_count": 17,
     "metadata": {},
     "output_type": "execute_result"
    }
   ],
   "source": [
    "prob_ctrl=df2.query('converted==1 and group== \"control\"').count()[0]/df2.query('group==\"control\"').count()[0]\n",
    "prob_ctrl"
   ]
  },
  {
   "cell_type": "code",
   "execution_count": 18,
   "metadata": {},
   "outputs": [
    {
     "data": {
      "text/plain": [
       "145274"
      ]
     },
     "execution_count": 18,
     "metadata": {},
     "output_type": "execute_result"
    }
   ],
   "source": [
    "df2.query(\"group == 'control' and landing_page=='old_page'\").count()[0]"
   ]
  },
  {
   "cell_type": "code",
   "execution_count": 19,
   "metadata": {},
   "outputs": [
    {
     "data": {
      "text/plain": [
       "145310"
      ]
     },
     "execution_count": 19,
     "metadata": {},
     "output_type": "execute_result"
    }
   ],
   "source": [
    "df2.query(\"group == 'treatment' and landing_page=='new_page'\").count()[0]"
   ]
  },
  {
   "cell_type": "markdown",
   "metadata": {},
   "source": [
    "c. Given that an individual was in the `treatment` group, what is the probability they converted?"
   ]
  },
  {
   "cell_type": "code",
   "execution_count": 20,
   "metadata": {},
   "outputs": [
    {
     "data": {
      "text/plain": [
       "0.11880806551510564"
      ]
     },
     "execution_count": 20,
     "metadata": {},
     "output_type": "execute_result"
    }
   ],
   "source": [
    "prob_trt=df2.query('converted==1 and group== \"treatment\"').count()[0]/df2.query('group==\"treatment\"').count()[0]\n",
    "prob_trt"
   ]
  },
  {
   "cell_type": "markdown",
   "metadata": {},
   "source": [
    "d. What is the probability that an individual received the new page?"
   ]
  },
  {
   "cell_type": "code",
   "execution_count": 21,
   "metadata": {},
   "outputs": [
    {
     "data": {
      "text/plain": [
       "0.50006194422266881"
      ]
     },
     "execution_count": 21,
     "metadata": {},
     "output_type": "execute_result"
    }
   ],
   "source": [
    "prob_npg=df2.query('landing_page==\"new_page\"').count()[0]/df2.count()[0]\n",
    "prob_npg"
   ]
  },
  {
   "cell_type": "code",
   "execution_count": 22,
   "metadata": {},
   "outputs": [
    {
     "data": {
      "text/plain": [
       "0.059411392230817942"
      ]
     },
     "execution_count": 22,
     "metadata": {},
     "output_type": "execute_result"
    }
   ],
   "source": [
    "prob_ncvt=df2.query('landing_page==\"new_page\" and converted==1').count()[0]/df2.count()[0]\n",
    "prob_ncvt\n"
   ]
  },
  {
   "cell_type": "code",
   "execution_count": 23,
   "metadata": {},
   "outputs": [
    {
     "data": {
      "text/plain": [
       "0.060185695014178343"
      ]
     },
     "execution_count": 23,
     "metadata": {},
     "output_type": "execute_result"
    }
   ],
   "source": [
    "prob_ocvt=df2.query('landing_page==\"old_page\" and converted==1').count()[0]/df2.count()[0]\n",
    "prob_ocvt"
   ]
  },
  {
   "cell_type": "markdown",
   "metadata": {},
   "source": [
    "e. Use the results in the previous two portions of this question to suggest if you think there is evidence that one page leads to more conversions?  Write your response below."
   ]
  },
  {
   "cell_type": "markdown",
   "metadata": {},
   "source": [
    "**Your answer goes here.**\n",
    "the probability suggests that the conversion happened marginally with almost 0.5% more for control group than the treatment ones. Also with the new page the conversion is very marginally less than old page conversions that have taken place.So neither page is better than another."
   ]
  },
  {
   "cell_type": "markdown",
   "metadata": {},
   "source": [
    "<a id='ab_test'></a>\n",
    "### Part II - A/B Test\n",
    "\n",
    "Notice that because of the time stamp associated with each event, you could technically run a hypothesis test continuously as each observation was observed.  \n",
    "\n",
    "However, then the hard question is do you stop as soon as one page is considered significantly better than another or does it need to happen consistently for a certain amount of time?  How long do you run to render a decision that neither page is better than another?  \n",
    "\n",
    "These questions are the difficult parts associated with A/B tests in general.  \n",
    "\n",
    "\n",
    "`1.` For now, consider you need to make the decision just based on all the data provided.  If you want to assume that the old page is better unless the new page proves to be definitely better at a Type I error rate of 5%, what should your null and alternative hypotheses be?  You can state your hypothesis in terms of words or in terms of **$p_{old}$** and **$p_{new}$**, which are the converted rates for the old and new pages."
   ]
  },
  {
   "cell_type": "markdown",
   "metadata": {},
   "source": [
    "**Put your answer here.**\n",
    "null :: **$H_{0}$** **$p_{old}$**>=**$p_{new}$**\n",
    "\n",
    "alternative ::**$H_{1}$** **$p_{new}$**>**$p_{old}$**"
   ]
  },
  {
   "cell_type": "markdown",
   "metadata": {},
   "source": [
    "`2.` Assume under the null hypothesis, $p_{new}$ and $p_{old}$ both have \"true\" success rates equal to the **converted** success rate regardless of page - that is $p_{new}$ and $p_{old}$ are equal. Furthermore, assume they are equal to the **converted** rate in **ab_data.csv** regardless of the page. <br><br>\n",
    "\n",
    "Use a sample size for each page equal to the ones in **ab_data.csv**.  <br><br>\n",
    "\n",
    "Perform the sampling distribution for the difference in **converted** between the two pages over 10,000 iterations of calculating an estimate from the null.  <br><br>\n",
    "\n",
    "Use the cells below to provide the necessary parts of this simulation.  If this doesn't make complete sense right now, don't worry - you are going to work through the problems below to complete this problem.  You can use **Quiz 5** in the classroom to make sure you are on the right track.<br><br>"
   ]
  },
  {
   "cell_type": "markdown",
   "metadata": {},
   "source": [
    "a. What is the **convert rate** for $p_{new}$ under the null? "
   ]
  },
  {
   "cell_type": "code",
   "execution_count": 24,
   "metadata": {},
   "outputs": [
    {
     "data": {
      "text/plain": [
       "0.11959708724499628"
      ]
     },
     "execution_count": 24,
     "metadata": {},
     "output_type": "execute_result"
    }
   ],
   "source": [
    "p_new=df2.query('converted == 1')['user_id'].nunique()/df2['user_id'].nunique()\n",
    "p_new"
   ]
  },
  {
   "cell_type": "markdown",
   "metadata": {},
   "source": [
    "b. What is the **convert rate** for $p_{old}$ under the null? <br><br>"
   ]
  },
  {
   "cell_type": "code",
   "execution_count": 25,
   "metadata": {},
   "outputs": [
    {
     "data": {
      "text/plain": [
       "0.11959708724499628"
      ]
     },
     "execution_count": 25,
     "metadata": {},
     "output_type": "execute_result"
    }
   ],
   "source": [
    "p_old=df2.query('converted == 1')['user_id'].nunique()/df2['user_id'].nunique()\n",
    "p_old\n"
   ]
  },
  {
   "cell_type": "markdown",
   "metadata": {},
   "source": [
    "c. What is $n_{new}$?"
   ]
  },
  {
   "cell_type": "code",
   "execution_count": 26,
   "metadata": {},
   "outputs": [
    {
     "data": {
      "text/plain": [
       "145310"
      ]
     },
     "execution_count": 26,
     "metadata": {},
     "output_type": "execute_result"
    }
   ],
   "source": [
    "n_new=df2.query('landing_page==\"new_page\"').count()[0]\n",
    "n_new\n",
    " "
   ]
  },
  {
   "cell_type": "markdown",
   "metadata": {},
   "source": [
    "d. What is $n_{old}$?"
   ]
  },
  {
   "cell_type": "code",
   "execution_count": 27,
   "metadata": {},
   "outputs": [
    {
     "data": {
      "text/plain": [
       "145274"
      ]
     },
     "execution_count": 27,
     "metadata": {},
     "output_type": "execute_result"
    }
   ],
   "source": [
    "n_old=df2.query('landing_page==\"old_page\"').count()[0]\n",
    "n_old"
   ]
  },
  {
   "cell_type": "markdown",
   "metadata": {},
   "source": [
    "e. Simulate $n_{new}$ transactions with a convert rate of $p_{new}$ under the null.  Store these $n_{new}$ 1's and 0's in **new_page_converted**."
   ]
  },
  {
   "cell_type": "code",
   "execution_count": 28,
   "metadata": {},
   "outputs": [],
   "source": [
    "new_page_converted=np.random.choice([0,1],n_new,p=(p_new,1-p_new))"
   ]
  },
  {
   "cell_type": "markdown",
   "metadata": {},
   "source": [
    "f. Simulate $n_{old}$ transactions with a convert rate of $p_{old}$ under the null.  Store these $n_{old}$ 1's and 0's in **old_page_converted**."
   ]
  },
  {
   "cell_type": "code",
   "execution_count": 29,
   "metadata": {},
   "outputs": [],
   "source": [
    "old_page_converted=np.random.choice([0,1],n_old,p=(p_old,1-p_old))"
   ]
  },
  {
   "cell_type": "markdown",
   "metadata": {},
   "source": [
    "g. Find $p_{new}$ - $p_{old}$ for your simulated values from part (e) and (f)."
   ]
  },
  {
   "cell_type": "code",
   "execution_count": 30,
   "metadata": {},
   "outputs": [],
   "source": [
    "new_page_cnvtd_mean=new_page_converted.mean()\n",
    "old_page_cnvtd_mean=old_page_converted.mean()"
   ]
  },
  {
   "cell_type": "code",
   "execution_count": 31,
   "metadata": {},
   "outputs": [
    {
     "data": {
      "text/plain": [
       "0.00044256845239887266"
      ]
     },
     "execution_count": 31,
     "metadata": {},
     "output_type": "execute_result"
    }
   ],
   "source": [
    "new_page_cnvtd_mean-old_page_cnvtd_mean"
   ]
  },
  {
   "cell_type": "markdown",
   "metadata": {},
   "source": [
    "h. Simulate 10,000 $p_{new}$ - $p_{old}$ values using this same process similarly to the one you calculated in parts **a. through g.** above.  Store all 10,000 values in **p_diffs**."
   ]
  },
  {
   "cell_type": "code",
   "execution_count": 32,
   "metadata": {},
   "outputs": [
    {
     "data": {
      "text/plain": [
       "[0.00046303490483112775,\n",
       " 0.0022043413620312924,\n",
       " 0.0015368814428874389,\n",
       " 0.00067674197418132742,\n",
       " -0.00052067410656819746,\n",
       " 0.0001192908593325992,\n",
       " -0.00037621176846702742,\n",
       " 0.00053875559639460224,\n",
       " 0.00065611862753411909,\n",
       " -0.0001836584164257582,\n",
       " 7.7611001574662275e-05,\n",
       " 0.00072464880795586328,\n",
       " -0.00098182040676009219,\n",
       " -0.00047964229013341964,\n",
       " 0.0034570611376973925,\n",
       " -0.0025786594097432225,\n",
       " -0.0019318535339408749,\n",
       " 0.00015348347123755879,\n",
       " 0.00076592108182893526,\n",
       " 5.0228602877067097e-05,\n",
       " 0.00147482381203623,\n",
       " 0.00031859814730839098,\n",
       " 0.0020532205888219579,\n",
       " 0.00021561272770864726,\n",
       " 0.0016540040165885506,\n",
       " 0.0015161557739258313,\n",
       " 0.00042183937269357763,\n",
       " 0.0015920197167292871,\n",
       " -0.00087201965783711977,\n",
       " 0.001130806907033155,\n",
       " 0.00051804357040841076,\n",
       " 6.4179871441027991e-05,\n",
       " 0.00062832693957981522,\n",
       " -0.0037007811419050851,\n",
       " 0.0015236651896134434,\n",
       " -0.00053453840116524098,\n",
       " 0.0014269715501625813,\n",
       " -0.0020555902030806594,\n",
       " 7.776277967397327e-05,\n",
       " 0.0012617272658271839,\n",
       " -0.00023852553613512573,\n",
       " 0.0010002804891487971,\n",
       " 0.00038733638310228802,\n",
       " 0.0011789951271716781,\n",
       " 0.0006627992324769183,\n",
       " -0.0007963876456125174,\n",
       " 0.00064202410773028795,\n",
       " -0.0011198374812410039,\n",
       " -0.00058299095394853673,\n",
       " -0.0011059254362307813,\n",
       " 0.00082116508872887017,\n",
       " -0.00066590215665374153,\n",
       " -0.00021140064859481722,\n",
       " -0.0014430605024065013,\n",
       " -0.0002524921530462354,\n",
       " -0.0018561157886582969,\n",
       " 0.0010136775118444463,\n",
       " 0.00071829733979034138,\n",
       " 0.00016046251626333774,\n",
       " -0.0023381327144232911,\n",
       " -0.0015117850952252043,\n",
       " 0.0016813147896661551,\n",
       " -0.00072766987428141139,\n",
       " 0.0022253671764476124,\n",
       " -0.0017873604991454073,\n",
       " -0.00086510882768742192,\n",
       " 0.00080743210776845764,\n",
       " 0.00013293516095391755,\n",
       " -0.00039019373372517485,\n",
       " -0.00096162340308847405,\n",
       " 0.00050457662746483667,\n",
       " -0.00094062657999449684,\n",
       " -0.00016307599870413192,\n",
       " -0.00091317596642070953,\n",
       " 0.00083499186514379709,\n",
       " -0.0012640900585982884,\n",
       " -0.00010774672320912337,\n",
       " -0.00044531665921998531,\n",
       " 0.0002018149426158411,\n",
       " 0.00043575482844759872,\n",
       " 0.0012892529157646493,\n",
       " -5.2772165069936428e-05,\n",
       " 0.00056667177649771805,\n",
       " 0.0007661581285234309,\n",
       " 0.0021701112319443272,\n",
       " 0.00025000827887000643,\n",
       " -0.00042484679604404274,\n",
       " -0.0012506401693737068,\n",
       " 0.0018880939751477754,\n",
       " -6.6750719584285356e-05,\n",
       " 0.00085563397088217474,\n",
       " -0.0010373764967180898,\n",
       " -0.00094769089361546044,\n",
       " 0.0024521336048567433,\n",
       " -0.0011611148712297181,\n",
       " -0.00093403124364677126,\n",
       " -0.00087893219335866135,\n",
       " -0.00013562709050229937,\n",
       " 0.00042914414375283538,\n",
       " 0.00075244390665385463,\n",
       " -0.000555274302358022,\n",
       " -0.00021102205603240609,\n",
       " 0.00064208720649072681,\n",
       " 0.0022596774590138979,\n",
       " -0.0011816358955629713,\n",
       " -0.0002801695810829008,\n",
       " -0.0011126827829093244,\n",
       " -0.0016154543689580469,\n",
       " 0.0015918918138365656,\n",
       " 0.0034091133749971636,\n",
       " -0.00047965934385241216,\n",
       " -0.00071413301108980143,\n",
       " -0.00098890006872809355,\n",
       " 0.0015852197357532072,\n",
       " -1.1871662271567551e-05,\n",
       " 0.0011858786713709879,\n",
       " 0.0027964011995293969,\n",
       " -0.0016363301106467887,\n",
       " -0.00062420695054876685,\n",
       " 0.0020393119545555338,\n",
       " -1.8364676305115957e-05,\n",
       " 0.00012595441055629486,\n",
       " -0.00040373741840438182,\n",
       " -0.00062419501294552759,\n",
       " 0.00060780932599058257,\n",
       " 0.00057316990664701972,\n",
       " 0.00034628069146092066,\n",
       " 0.0012824921583423077,\n",
       " 0.00013989033077310697,\n",
       " -0.0003214162743775395,\n",
       " -0.00015646872475305607,\n",
       " -0.0018079616759578698,\n",
       " -0.00058286134568397152,\n",
       " -0.0005690772035664704,\n",
       " -0.00096842338406444295,\n",
       " 0.0012410988030641112,\n",
       " 9.8218999874832846e-05,\n",
       " 0.00070419088238315997,\n",
       " -0.00058954195062677073,\n",
       " 0.00026352808834262387,\n",
       " 0.00040139509009617935,\n",
       " 0.00041468808510569666,\n",
       " -0.00012181395706245546,\n",
       " -0.0018424902461277037,\n",
       " 0.00065561895356658351,\n",
       " 1.5749488492478037e-05,\n",
       " 0.0010552124129905582,\n",
       " 0.0026864776638294563,\n",
       " -0.0010509440566039974,\n",
       " -0.00053470893835538824,\n",
       " 0.001908418881712115,\n",
       " -0.00091328511022248371,\n",
       " -0.0013535420257503317,\n",
       " 0.0002290950189992591,\n",
       " 0.00017420402408330204,\n",
       " 6.3857556151458716e-05,\n",
       " -0.0011885927707538935,\n",
       " 0.00074545633476863493,\n",
       " -0.00058981651550304992,\n",
       " 0.0026102845842488342,\n",
       " 0.00019490240709429951,\n",
       " 0.00011198267752954294,\n",
       " -0.0007000964739307669,\n",
       " -0.0010096496128961796,\n",
       " -0.00039020908207232363,\n",
       " -0.00012155132978952654,\n",
       " -0.0023999652361832435,\n",
       " 2.2992866163029646e-05,\n",
       " 0.00099308656726326827,\n",
       " -5.9727334889014827e-05,\n",
       " -0.00082391159017802806,\n",
       " -0.0012918032994450046,\n",
       " -0.00032147255165038136,\n",
       " -0.00079637911875296563,\n",
       " 0.0002292467970985701,\n",
       " -0.0017187348178969719,\n",
       " -0.00079622734065365464,\n",
       " -0.0023654912379142967,\n",
       " 0.00026357583875591395,\n",
       " 0.0023422254175038404,\n",
       " -0.0015672132822905915,\n",
       " -0.00034877820861234365,\n",
       " -0.00026657644061856001,\n",
       " 0.00075228189632314812,\n",
       " -0.00063816333522848101,\n",
       " -0.0021249986500323503,\n",
       " 0.0001881126583496151,\n",
       " 0.0025417220017609488,\n",
       " 0.0020738473462130758,\n",
       " 0.0021495151712475069,\n",
       " 0.001351117839590632,\n",
       " -0.00025238471461630496,\n",
       " 0.0019979475905996802,\n",
       " -0.0001218480645004405,\n",
       " -0.0011954029839614799,\n",
       " 0.0015574757982121934,\n",
       " 0.00025658485612678472,\n",
       " -0.0012369310636198838,\n",
       " -0.0010303957463204672,\n",
       " -0.00067231501820785855,\n",
       " -0.0017392200294201743,\n",
       " 0.00061473209374351967,\n",
       " 0.0013856924548019123,\n",
       " 0.0018532328574568657,\n",
       " -6.6958774956438205e-05,\n",
       " -0.00061739503196944767,\n",
       " -0.0010786726457978624,\n",
       " 0.0016127180997401735,\n",
       " -0.00010102689471258586,\n",
       " -0.00092024539615731538,\n",
       " 0.00075227166409175261,\n",
       " 0.0009106767438974428,\n",
       " 6.4205452019572284e-05,\n",
       " -0.0012710060048636285,\n",
       " 0.0020257938504548711,\n",
       " 0.00092430399179999068,\n",
       " 0.00092455638684152408,\n",
       " -0.00031450032811208839,\n",
       " -0.0018010968908496183,\n",
       " -0.00014930720493366856,\n",
       " 0.0016331112211805943,\n",
       " 0.0014404367877343116,\n",
       " -0.0013055772093311102,\n",
       " 0.0012822670492511623,\n",
       " -0.0011954694934656063,\n",
       " -0.0016016855751876946,\n",
       " 0.00090382730713622905,\n",
       " -0.0010575820272491487,\n",
       " 0.00049768967252183938,\n",
       " 0.0013165227599165608,\n",
       " -0.0012230036702626235,\n",
       " -0.0016704118733782414,\n",
       " -0.0026888575103195533,\n",
       " -3.2319355612875356e-05,\n",
       " -0.0016150962408585379,\n",
       " 0.0007246419864683773,\n",
       " 0.00077993715452517876,\n",
       " 0.00011907598247284934,\n",
       " -0.001518910802234652,\n",
       " -0.00027331673357799957,\n",
       " -0.00039714549280056577,\n",
       " 0.00084881011469950529,\n",
       " -2.5645572157562135e-05,\n",
       " 0.00010543168085130894,\n",
       " 0.00069030953406723494,\n",
       " -5.9613074971598401e-05,\n",
       " -0.0015601592009011345,\n",
       " 0.00066978850973420379,\n",
       " -0.00069280705121865793,\n",
       " 2.2701247567757932e-05,\n",
       " -0.0010787135747234444,\n",
       " -0.0014225036652634193,\n",
       " 0.0011995621965461556,\n",
       " -0.00098892906005043635,\n",
       " 0.00044938889783774361,\n",
       " -0.0010785498590208942,\n",
       " -0.00089249975324456887,\n",
       " -0.00025958034187378853,\n",
       " 0.00077305019958218146,\n",
       " 0.0022527069408476708,\n",
       " 0.002286860329198892,\n",
       " -0.00075492437008639612,\n",
       " 0.0001879216566965658,\n",
       " -0.0017253642616827936,\n",
       " 0.002059853443351467,\n",
       " -0.0027028650561563561,\n",
       " 0.0020394432681920538,\n",
       " -0.0019046075649954419,\n",
       " 5.0474176431114515e-05,\n",
       " 0.00076619564670532547,\n",
       " -0.0020077805755045475,\n",
       " -0.0024341851340387022,\n",
       " 0.0015298290668697145,\n",
       " 0.0013235546714713831,\n",
       " -0.0010508792524717148,\n",
       " 0.0020739940081967445,\n",
       " 2.9434719039600488e-05,\n",
       " -0.0015741445769030804,\n",
       " -0.00087904474790423404,\n",
       " 0.0021081661556388021,\n",
       " 0.0012340685968812437,\n",
       " -0.00014245094668496883,\n",
       " 0.00146123919843133,\n",
       " -0.00073442722095984347,\n",
       " -0.001291731673825014,\n",
       " -0.001071620269780249,\n",
       " 0.0022319932094895245,\n",
       " 0.00029798503289257816,\n",
       " 0.0011446234512169084,\n",
       " -3.2182925860602118e-05,\n",
       " 0.0017434645106001456,\n",
       " 0.00026378901024370904,\n",
       " 0.0015783515399011572,\n",
       " -0.00042456882042385402,\n",
       " -0.00050732142354215082,\n",
       " 0.0021083179337382241,\n",
       " -0.0010991459197177145,\n",
       " -0.00036968294162342819,\n",
       " 0.00033924536916229986,\n",
       " 0.0016124657046986401,\n",
       " -0.00017710912511936794,\n",
       " -0.00041747039936490538,\n",
       " -0.0015328569546828597,\n",
       " -0.0013193460031014625,\n",
       " 0.00044967198957357457,\n",
       " 0.00077999343179802061,\n",
       " -0.0007690308274933555,\n",
       " 2.2604041369334027e-05,\n",
       " 0.0017089205920830519,\n",
       " -0.0007688176560055604,\n",
       " -0.00030077928475502613,\n",
       " -0.0021383291632237622,\n",
       " -0.0010235207289807091,\n",
       " 0.0011791912449404807,\n",
       " 0.00046977690316241105,\n",
       " -0.00076895920187358691,\n",
       " 0.0010966466971943367,\n",
       " 0.0020670371330056003,\n",
       " -0.00021152514074374018,\n",
       " -0.00056877535273958113,\n",
       " 0.0011309603905045318,\n",
       " 0.00013967033779760385,\n",
       " -0.0018079071040569827,\n",
       " 0.0002772644800468349,\n",
       " -0.00019734364697288065,\n",
       " 0.0021771295005239555,\n",
       " -1.1973984585744724e-05,\n",
       " 0.00060766948549451083,\n",
       " -0.000624447407987061,\n",
       " -0.0014291842702063295,\n",
       " 0.0028032591631501624,\n",
       " -0.00025262687742655388,\n",
       " -3.2261372968189761e-05,\n",
       " 0.001007377204835902,\n",
       " -0.0012506435801175053,\n",
       " -0.0019800946206083303,\n",
       " 0.0021427407708500823,\n",
       " 0.0001743097571411667,\n",
       " 0.0016815808276829936,\n",
       " -0.00045230764184911454,\n",
       " 0.0036706573578738633,\n",
       " -0.0013608161001151808,\n",
       " -0.0018699391543295363,\n",
       " -0.0012231111086924429,\n",
       " -0.0015326591315422133,\n",
       " 0.00084849803164122051,\n",
       " -0.0024274516625668596,\n",
       " 0.00068337823945474607,\n",
       " -0.00097532568735470004,\n",
       " 0.0010688857059343304,\n",
       " -0.0010029280790276873,\n",
       " 9.1200447066563939e-06,\n",
       " -0.00011517598641719307,\n",
       " 0.0008279974717710914,\n",
       " -0.000541413418504888,\n",
       " -0.00091999300111578197,\n",
       " -0.0015122881799365384,\n",
       " 0.00058717915785566621,\n",
       " -0.0012918220585359519,\n",
       " -0.00052104246689921307,\n",
       " -0.00076181814651699042,\n",
       " -0.0003284004355189607,\n",
       " 0.0016194294013773813,\n",
       " 0.00097250926565739526,\n",
       " -0.00087873778096170252,\n",
       " 0.00093124040252812179,\n",
       " 0.0022596757536420542,\n",
       " -0.0014914073221319324,\n",
       " -0.001175204274917907,\n",
       " -0.00025962468154328011,\n",
       " 0.001192484239950109,\n",
       " 0.00066974587543655595,\n",
       " -0.00027994276661991169,\n",
       " -0.00034906471109197312,\n",
       " 0.0018604574760366921,\n",
       " 0.0020049181087660184,\n",
       " 0.00080752249247917351,\n",
       " 0.0016265465815272773,\n",
       " -0.0017051826063582132,\n",
       " -0.0019868997177000525,\n",
       " 0.00067663283037955324,\n",
       " -0.00047286788973599503,\n",
       " 0.0009104925637319905,\n",
       " -0.0006103085485138493,\n",
       " -0.00099595073937375211,\n",
       " -0.0012092416979797571,\n",
       " -7.3473958824621377e-05,\n",
       " 0.00037379099305123731,\n",
       " -0.00084425525583320393,\n",
       " -0.00030072130211034054,\n",
       " -0.00065857351038789425,\n",
       " -0.0021728969569473344,\n",
       " -0.0020214743329112217,\n",
       " 0.00081411271271125685,\n",
       " -0.0020420141163353112,\n",
       " 0.00031209490104344706,\n",
       " -0.0025169053350908577,\n",
       " 0.00021569288018796762,\n",
       " -0.00052786291233808402,\n",
       " 0.00030466734320722111,\n",
       " 0.00084166394322726656,\n",
       " 0.0012064218655387648,\n",
       " 0.0010965835984338979,\n",
       " 9.1405375923669929e-05,\n",
       " -0.00072763576684331532,\n",
       " -0.0012574606148124667,\n",
       " -0.00069316347394621225,\n",
       " 0.0011240069260571861,\n",
       " 0.00024962798093575156,\n",
       " 0.002527983904684894,\n",
       " -0.00018356121022733429,\n",
       " 0.00090376420837590121,\n",
       " 0.00080736218752042177,\n",
       " 0.00061448652018958327,\n",
       " -0.00043139779272216572,\n",
       " 0.00061476620118161573,\n",
       " 0.00025673151811045347,\n",
       " 0.0013786758915942388,\n",
       " 0.0011859349486437187,\n",
       " 0.0013166353144621334,\n",
       " 0.0011514404859119809,\n",
       " -0.002200504464736186,\n",
       " 0.0016677898640780064,\n",
       " -0.0012504935073900381,\n",
       " -0.000665740146322924,\n",
       " 0.00061443194828869618,\n",
       " -0.0013124436998113165,\n",
       " 0.0011997412605959656,\n",
       " 0.00096560696236724919,\n",
       " 0.00056641597071238614,\n",
       " -0.00029376954303494962,\n",
       " 0.00025696003794528632,\n",
       " -0.0011473870063851699,\n",
       " 0.00029085079902368971,\n",
       " 0.002101270673836364,\n",
       " 8.4649734617081585e-05,\n",
       " 0.0021704028505397099,\n",
       " -0.0020078504957525833,\n",
       " -0.0010923271796507983,\n",
       " -0.00097517220388332326,\n",
       " -0.00012183442152535751,\n",
       " -0.00040413306468589649,\n",
       " -0.00068642147561503997,\n",
       " 0.0015713537357844309,\n",
       " 0.00046319009367423725,\n",
       " 0.00071792727408748203,\n",
       " 0.0012066913142994018,\n",
       " -0.00055534933872170011,\n",
       " 0.0026725400382406894,\n",
       " -0.0015396160067331355,\n",
       " 0.0017915248278458362,\n",
       " -0.00021116530727216531,\n",
       " 0.0013648542312949541,\n",
       " 0.0020050204310801956,\n",
       " -0.00094776422460729481,\n",
       " -0.0033290407638237873,\n",
       " 0.00058031778349110219,\n",
       " 0.0017157444482658324,\n",
       " 0.00051821922371442231,\n",
       " -0.0018630811907088818,\n",
       " -0.00041080002665350168,\n",
       " -8.7406468297746009e-05,\n",
       " -0.0004178421704397195,\n",
       " 0.0011307540405043337,\n",
       " 0.0002017893620372968,\n",
       " 0.00029135388373491278,\n",
       " 0.0010482538324275703,\n",
       " -0.00054851866105154468,\n",
       " 0.002314541167979467,\n",
       " -0.00019067327426147695,\n",
       " 0.000387474518226405,\n",
       " 0.0013029483785431673,\n",
       " -0.0007067668466421706,\n",
       " -0.00076901547914631774,\n",
       " -0.00083077637528627957,\n",
       " -0.0021246388165608865,\n",
       " -0.000700151045831654,\n",
       " -0.00028000245463644102,\n",
       " -0.0031295475903105885,\n",
       " -0.0014020099268807762,\n",
       " 0.00089004998650632494,\n",
       " -0.00083765480336994713,\n",
       " -0.00068613838387909798,\n",
       " -0.0013882701244327667,\n",
       " -0.00012859347357574435,\n",
       " -0.00033531126566865854,\n",
       " -0.0014366118280424445,\n",
       " 0.00069014411299272993,\n",
       " 0.0014269510856997902,\n",
       " -0.00058273685353504856,\n",
       " -0.0027717977043471009,\n",
       " -0.0023173575896767717,\n",
       " -0.0016976834229022186,\n",
       " -0.00018344353956600834,\n",
       " 0.00069023961381919907,\n",
       " 0.00044252752347317958,\n",
       " 0.00077288136776376692,\n",
       " -8.7150662512303079e-05,\n",
       " -0.00030763554300383689,\n",
       " -0.0019043858666480951,\n",
       " -0.00082366260588018214,\n",
       " 0.00063528893088660165,\n",
       " 0.0015368643891683353,\n",
       " 0.00013300678657390819,\n",
       " -0.0019181802409969917,\n",
       " 0.0019086474015470589,\n",
       " 0.0014750455103835769,\n",
       " -0.00041096544772800669,\n",
       " 0.0016883313528739397,\n",
       " -0.0021797873226342412,\n",
       " -0.00020433804034580838,\n",
       " -0.00061082186545657891,\n",
       " -0.00077576600433704179,\n",
       " -0.0016427071593910769,\n",
       " 4.3554819421864899e-05,\n",
       " 0.00036701147653794841,\n",
       " -0.00021121817380120866,\n",
       " 0.0021978585802291395,\n",
       " -0.0010441372541403204,\n",
       " 0.0018674723338724109,\n",
       " -0.0010576843495633259,\n",
       " 0.0010826817856551818,\n",
       " -0.0014362571106867339,\n",
       " -0.00044475218112016712,\n",
       " 0.00071102156005342643,\n",
       " -0.0026133005344586291,\n",
       " 0.0012409589625681505,\n",
       " -0.00092028291433920995,\n",
       " -0.002489381390525347,\n",
       " -0.00035576236975376485,\n",
       " 0.00044959695320978543,\n",
       " 0.0013302779107118301,\n",
       " 0.00093113296409830237,\n",
       " 0.00055986326866219738,\n",
       " 0.00060120716815525999,\n",
       " 0.00088977542163004575,\n",
       " -0.0016358560172579084,\n",
       " 0.00013265547996188509,\n",
       " 0.00036700294967850766,\n",
       " 0.00039455418019440636,\n",
       " 0.0020118698678412983,\n",
       " -0.000266107463345433,\n",
       " 9.1477001543549541e-05,\n",
       " 0.0031820570333644937,\n",
       " -0.00060352050514123068,\n",
       " 0.000724788648451824,\n",
       " 9.1720869725642196e-05,\n",
       " 0.00060784684417236612,\n",
       " 0.00041505644543660125,\n",
       " -0.00054149698172811789,\n",
       " 0.0013719952866514395,\n",
       " 0.0002636747503261816,\n",
       " -0.00061090372330785403,\n",
       " 0.00064876440068961649,\n",
       " -0.0019457536413477472,\n",
       " -0.00069982361442622043,\n",
       " -0.00067915763348147529,\n",
       " 0.00040808592727037407,\n",
       " -0.00076203472874858402,\n",
       " 0.0010827517059031067,\n",
       " 0.0023426585819671386,\n",
       " -0.00034910734538950994,\n",
       " 0.00058683978884699339,\n",
       " 0.00082110540071234084,\n",
       " 9.1650949477606325e-05,\n",
       " -0.00046584962115647777,\n",
       " 0.0013992139696463735,\n",
       " -0.0020143196345794312,\n",
       " -0.00073417653129015381,\n",
       " -0.0016840834609501698,\n",
       " -0.0013468153757660861,\n",
       " -0.00052780322432144366,\n",
       " -0.0015051198386295539,\n",
       " -0.00036254529701074123,\n",
       " -0.0017528540988102081,\n",
       " -0.00047276897816561636,\n",
       " -0.00048632971656381585,\n",
       " 0.00047025270192324609,\n",
       " -0.00036942884121005104,\n",
       " 0.00095188762438203067,\n",
       " 0.002982024962330021,\n",
       " 0.00088318520139807344,\n",
       " 0.00099315648751141516,\n",
       " 0.0005252971803104689,\n",
       " 0.00053190274888970102,\n",
       " -0.00084441726616402146,\n",
       " -0.00050755505949273694,\n",
       " 0.0030235888547985867,\n",
       " -0.0016704323378411434,\n",
       " 0.00050427136589425992,\n",
       " 0.0025485322149684242,\n",
       " 0.00062838321685254606,\n",
       " -0.00076204837172388906,\n",
       " -0.0016153247606933707,\n",
       " 0.0017503241795926439,\n",
       " 0.0016605959421923666,\n",
       " 0.0014201937390212471,\n",
       " 0.00018792336206852056,\n",
       " -0.0010030167583666705,\n",
       " -0.0019592666293327676,\n",
       " 0.0013784934168006302,\n",
       " -0.00074127154160530395,\n",
       " 0.0019017075800750183,\n",
       " -0.00053487777017380278,\n",
       " 0.0017363166337559521,\n",
       " 0.0010346248791532897,\n",
       " 0.00062838492222461184,\n",
       " -0.00213839226198409,\n",
       " 0.00030509368618292232,\n",
       " 0.00029113900687516292,\n",
       " 0.00061457861027225391,\n",
       " -0.00017696928462340722,\n",
       " 0.0019773651728781649,\n",
       " -0.00091339084328045939,\n",
       " -0.00269596275286621,\n",
       " -0.0013540348782301592,\n",
       " 0.0014267413249556826,\n",
       " -0.0015874648578630968,\n",
       " 0.0023148157328558572,\n",
       " 0.0019152495593823815,\n",
       " 0.00076622975414331052,\n",
       " 0.00045642592550820815,\n",
       " 0.001199531499851858,\n",
       " 8.4668493708028869e-05,\n",
       " 0.00039461216283909195,\n",
       " 2.9538746725621401e-05,\n",
       " -0.0015327290517901382,\n",
       " 0.00049078395848778378,\n",
       " -0.00094758004444173149,\n",
       " -0.00089955554000586968,\n",
       " 0.00011908280396033533,\n",
       " 0.00051839828776423236,\n",
       " -0.00035564640446439366,\n",
       " -0.0016017452632042239,\n",
       " -0.0017392558422301141,\n",
       " 8.710755450058727e-06,\n",
       " -0.00082393546538472862,\n",
       " 0.0015230973007699378,\n",
       " -0.0005277981082056904,\n",
       " 7.7495036285291086e-05,\n",
       " 0.00091078418232726222,\n",
       " 8.460710031954477e-05,\n",
       " -0.0016152258491231031,\n",
       " 0.00082131686682818117,\n",
       " -0.0016016088334520617,\n",
       " -0.0015395375596257699,\n",
       " -0.00016999023959762827,\n",
       " -0.0026408739348094956,\n",
       " 0.0012616317650006037,\n",
       " 0.00034641200509744063,\n",
       " 0.0015573632436666207,\n",
       " -0.0016084275735189779,\n",
       " -0.0006034761654717391,\n",
       " -0.0018218686048523391,\n",
       " 0.00036676760835596678,\n",
       " 0.00074505216162779053,\n",
       " 0.00035309602078392732,\n",
       " -0.000603566550182566,\n",
       " 0.00059399107643498539,\n",
       " 6.4309479705593198e-05,\n",
       " 0.00015351075718794682,\n",
       " -0.00014945898303309058,\n",
       " 0.00018098865671212216,\n",
       " 0.0016745250409216927,\n",
       " 0.00082810661557275456,\n",
       " -0.00089939694041896168,\n",
       " 0.00088313745098478336,\n",
       " -0.00053471405447114151,\n",
       " -0.00073460457963780978,\n",
       " -0.00036911846352372102,\n",
       " 0.00061443024291674142,\n",
       " -0.0014711506304436739,\n",
       " -0.00086520773925780059,\n",
       " 0.00040138656323662758,\n",
       " 0.0012890516818800934,\n",
       " 0.00021530235002231723,\n",
       " 0.002782877979313092,\n",
       " 0.00028428615937015067,\n",
       " 2.2859847154665935e-05,\n",
       " -0.00052084293838650098,\n",
       " 0.00038755125996203788,\n",
       " -0.00010134921000215513,\n",
       " 0.0010758835100510566,\n",
       " 0.00015367447289060809,\n",
       " -0.00013557934008912031,\n",
       " -0.00026635474227121314,\n",
       " -0.00028704459842276986,\n",
       " -0.0012919533721723608,\n",
       " 0.00024987014374588945,\n",
       " -0.0018838750745463484,\n",
       " -0.00019771882879149327,\n",
       " 0.00069714191710934514,\n",
       " -0.00023183299358897624,\n",
       " 0.0017294706077385369,\n",
       " 0.00020822780416995812,\n",
       " 0.00043595435696031082,\n",
       " 0.0026035135945952081,\n",
       " 7.800153174042368e-05,\n",
       " 0.00093135125170173971,\n",
       " 0.001481961456648917,\n",
       " -0.001388164391374791,\n",
       " 0.00031198575724167288,\n",
       " 0.00080049058092446224,\n",
       " 0.0020944604606288886,\n",
       " 0.00056617380790224825,\n",
       " 0.0015231348189517213,\n",
       " -0.00036285908544086976,\n",
       " -0.00038341080646819847,\n",
       " -0.0015806887520937174,\n",
       " -4.7902949316114274e-06,\n",
       " -0.0028884103718493925,\n",
       " 0.0017985857307228903,\n",
       " -0.00096841144646109267,\n",
       " -0.0020766637679102695,\n",
       " 0.0011993490250583605,\n",
       " 0.0012962456037656223,\n",
       " 0.00047713795149439964,\n",
       " 9.8375894089897109e-05,\n",
       " 0.0015161608900415846,\n",
       " 0.00031886077458143092,\n",
       " -0.00013557081322956854,\n",
       " 0.0031199823487944034,\n",
       " -0.0015050942580510096,\n",
       " -0.0032740218660152198,\n",
       " -0.00028683313230681851,\n",
       " 4.337575537216587e-05,\n",
       " -0.0012366957222973429,\n",
       " -0.00037641982383918027,\n",
       " 0.00095880357064748178,\n",
       " 0.00064209402797832382,\n",
       " -0.00047990491740645957,\n",
       " -0.0020353420382519527,\n",
       " -0.0020282896622343394,\n",
       " 0.0022391462024493602,\n",
       " 0.0026451815147497948,\n",
       " -0.0014433231296795412,\n",
       " 0.001007266355662173,\n",
       " -0.0010029110253085838,\n",
       " -0.00019026569037672303,\n",
       " -0.00094117912049096475,\n",
       " -0.0011335244171600811,\n",
       " 0.00025667694620956638,\n",
       " -0.00014951355493397767,\n",
       " 0.0015300780511675605,\n",
       " -0.00036972557592107602,\n",
       " 0.00035992840382614855,\n",
       " 0.0028240172341776892,\n",
       " -0.0020488857229311597,\n",
       " -0.0019459719289512956,\n",
       " -0.001339858500575053,\n",
       " 0.0016674999508544674,\n",
       " -0.00029376442691930738,\n",
       " 0.00084179355149183177,\n",
       " -0.0029437379419725573,\n",
       " -0.00056213738209442976,\n",
       " -0.0026063760613338482,\n",
       " 0.00071777549598806001,\n",
       " 0.0022458916115244421,\n",
       " 0.0021701896790519148,\n",
       " -0.00040405120683451035,\n",
       " 0.0016950153685605374,\n",
       " -0.00038303391927774211,\n",
       " 0.00027084479700512087,\n",
       " -0.0016841414435948554,\n",
       " 0.0019496007708743601,\n",
       " 0.0019978708488641583,\n",
       " 0.00011909985767943887,\n",
       " 0.0033330123854993232,\n",
       " -0.00071395906315574464,\n",
       " 0.0010482453055680185,\n",
       " -0.00036943225195373852,\n",
       " -0.0016565151767151676,\n",
       " 0.00091036125009547053,\n",
       " -0.00043143531090406029,\n",
       " 0.0018262785071069265,\n",
       " -0.0005279686453960597,\n",
       " -0.0019320274818749317,\n",
       " -4.6245043598291957e-05,\n",
       " 0.00020176889757439476,\n",
       " -0.0017050888109035878,\n",
       " 0.0010069627994635511,\n",
       " 0.00064204627756503374,\n",
       " -0.001388157569887194,\n",
       " 0.0020598790239300113,\n",
       " -0.00065192530751123634,\n",
       " -0.00066563441326505934,\n",
       " -0.0013744211781828719,\n",
       " -0.0020283220643005917,\n",
       " -0.00018403700898816933,\n",
       " 0.00089008579931626475,\n",
       " 0.00034627386997332366,\n",
       " 0.0010140015325059704,\n",
       " -0.00028010136620681969,\n",
       " 0.0016265704567337558,\n",
       " -0.0016083269565767555,\n",
       " -0.00043841776667363774,\n",
       " 0.00020854500334388515,\n",
       " -0.0024206175741527947,\n",
       " 0.0023627958976222274,\n",
       " 0.00016033120262692879,\n",
       " 0.00049750549235627606,\n",
       " 0.00030493679196785806,\n",
       " 0.0012753391653824719,\n",
       " -0.0015532927104209282,\n",
       " 0.0014334816179152332,\n",
       " -0.00046586326413167178,\n",
       " -0.00081012744806052694,\n",
       " -0.001629052625538141,\n",
       " 0.00070447738486278944,\n",
       " 0.00067659019608201643,\n",
       " 0.00022259347810626995,\n",
       " 0.0014267276819805996,\n",
       " 0.00047704586141161798,\n",
       " -0.00076851580517878215,\n",
       " 0.00067663624112346277,\n",
       " 0.00097266274912855,\n",
       " 0.0011238346834950841,\n",
       " -0.0014503158176805142,\n",
       " -0.0011608334848658419,\n",
       " -0.00098214613279345997,\n",
       " -0.001078454358194314,\n",
       " 0.0027068895443608243,\n",
       " -0.00099559261127424303,\n",
       " 0.00080034050819699498,\n",
       " -0.00070016298343489325,\n",
       " -0.00052113455698199473,\n",
       " -0.0023930032448764571,\n",
       " 0.00033927436048464266,\n",
       " -4.5793120044046454e-05,\n",
       " 0.00027727641765007416,\n",
       " 0.0014199959158806008,\n",
       " 0.00023610305534738085,\n",
       " -0.0010577372160923693,\n",
       " -0.0013948961574747898,\n",
       " -0.00051425442352648343,\n",
       " 0.00066961797254383448,\n",
       " -0.00028709405420790368,\n",
       " 0.00029802425644631647,\n",
       " -0.0011129522316699614,\n",
       " -0.00096840462497360669,\n",
       " -1.8518159776270693e-05,\n",
       " 0.00088339496214207003,\n",
       " -0.00063799961952581974,\n",
       " -0.00049361061241637305,\n",
       " 0.00020170409344211215,\n",
       " -0.0013057119337113177,\n",
       " 0.0031063499847763243,\n",
       " -8.0688345173052234e-05,\n",
       " 0.0016882716648572993,\n",
       " -0.00020430052216391381,\n",
       " 9.8537904420714639e-05,\n",
       " 0.0018122607290387283,\n",
       " 0.0004769554767009021,\n",
       " -0.0011062682159832526,\n",
       " 0.00041502404337057097,\n",
       " 0.00049766579731513882,\n",
       " -0.0010232819769143697,\n",
       " -0.0022618304910408948,\n",
       " -0.00064473138562581855,\n",
       " -0.00039723758288334743,\n",
       " 0.0010003384717935937,\n",
       " 0.0010414453245920496,\n",
       " -0.0009200254031820343,\n",
       " -0.0034326708140028916,\n",
       " -0.00028709917032354593,\n",
       " 0.001770811096487801,\n",
       " 0.0010068297804550763,\n",
       " 0.00027054976766593963,\n",
       " 0.0013923031394967866,\n",
       " 0.00070423522205265154,\n",
       " 0.0009796332672948882,\n",
       " -0.0011338313841025016,\n",
       " -0.0011472949163023882,\n",
       " 0.0033194891652830183,\n",
       " 0.0014129981117639856,\n",
       " 0.0010069986122736019,\n",
       " 0.00042865129127300783,\n",
       " 0.0017640059993960788,\n",
       " 0.0014816937132603458,\n",
       " 0.0011721627441295679,\n",
       " 0.00051147552001118424,\n",
       " 0.0010618981340489997,\n",
       " -0.00025949677865055865,\n",
       " 0.00084197091016968706,\n",
       " -0.0023446956487048753,\n",
       " -0.00061747518444899008,\n",
       " -0.0014914431349418722,\n",
       " 4.3218861157101607e-05,\n",
       " 0.00037375347486934274,\n",
       " 0.001502359694205091,\n",
       " -0.0004936310768792751,\n",
       " 0.0018606228971113081,\n",
       " 0.0024526418056836086,\n",
       " 0.00076625704009369855,\n",
       " 0.0021288423688151648,\n",
       " -0.00032145549793127781,\n",
       " 0.0030441269328507214,\n",
       " 0.0014475556732561623,\n",
       " -0.00011476158104495315,\n",
       " -0.0017734620971103787,\n",
       " 0.00035310284227163535,\n",
       " 0.0027482419707133277,\n",
       " -0.00052110215491574241,\n",
       " 0.00046996619944361662,\n",
       " -0.00043835807865699739,\n",
       " -1.8460177131696121e-05,\n",
       " 0.0011100164339394869,\n",
       " -0.00083062630255892334,\n",
       " -0.0015393584955759598,\n",
       " -0.00063799109266626797,\n",
       " -0.00051424078055128941,\n",
       " -0.0025308003263819767,\n",
       " -0.00033528909583391275,\n",
       " 0.001516510491281764,\n",
       " 0.0014888842244019651,\n",
       " -8.0790667487229406e-05,\n",
       " -0.00086498433553849896,\n",
       " 0.00037376370710073825,\n",
       " 0.001784837401415329,\n",
       " -0.0010436699822390372,\n",
       " 0.0017847180253822703,\n",
       " -0.0011197112837202372,\n",
       " 0.00011916295643987773,\n",
       " 0.00061435350118110854,\n",
       " 0.0020120335835440706,\n",
       " -0.00083774518808066301,\n",
       " 0.0015092074255943499,\n",
       " 0.0014268317096666205,\n",
       " -0.00074789245853157382,\n",
       " -0.001064758895415685,\n",
       " 0.00021530576076600472,\n",
       " 0.00031851117334136259,\n",
       " 0.0016196988501380183,\n",
       " -0.00080301708939822802,\n",
       " 0.0011928423680495071,\n",
       " 0.00036005971746266852,\n",
       " -0.0019251302947004278,\n",
       " -0.00010128952198551477,\n",
       " -2.5396587859938258e-05,\n",
       " 0.0012893160145249771,\n",
       " 0.00054611664472659083,\n",
       " 0.0013098643248086184,\n",
       " -0.001119712989092192,\n",
       " -0.00076192899569071937,\n",
       " 0.0018121584067245511,\n",
       " 0.0027827671301393631,\n",
       " -0.001443200342902462,\n",
       " -0.00061051489851404739,\n",
       " 0.001708968342496342,\n",
       " 0.0010619902241317813,\n",
       " 0.00069025325679450411,\n",
       " -0.00061048420181974983,\n",
       " -0.00062418648608597582,\n",
       " -0.0012986101019086815,\n",
       " 0.0012960938256662002,\n",
       " -0.0021659758945662411,\n",
       " 0.00049764021673659453,\n",
       " -0.000355844227605151,\n",
       " 0.0026175074974568169,\n",
       " -0.00074141308747321943,\n",
       " -0.00019779727589896989,\n",
       " -0.00033537265905714264,\n",
       " -0.00085124964920613166,\n",
       " 0.002466016658544512,\n",
       " 6.3987164416023923e-05,\n",
       " 0.00069030441795148167,\n",
       " -0.00060358530927351328,\n",
       " 0.0027067087749390595,\n",
       " 0.00075236375417453427,\n",
       " 0.0021567807187529153,\n",
       " -0.0013608723773880227,\n",
       " 0.00022231379711423749,\n",
       " -0.0016219866065452226,\n",
       " 0.0010618333299168281,\n",
       " -0.0020007316102308437,\n",
       " -0.0017666842859691556,\n",
       " 0.002004692999674762,\n",
       " 0.00049056908162803392,\n",
       " -0.00078282179109856465,\n",
       " 0.00012591177625864702,\n",
       " -0.0022348062204429198,\n",
       " 0.00095179723967120378,\n",
       " -0.00053471234909918675,\n",
       " 0.00048386289610669042,\n",
       " -0.0014568037155984204,\n",
       " 0.00040806034669182978,\n",
       " 0.0025828851318322466,\n",
       " 0.0013095368934031848,\n",
       " -0.002303825842600804,\n",
       " 0.0019776039249445043,\n",
       " -0.00081703316209458254,\n",
       " -0.00080315351915050126,\n",
       " -0.00047294804221542641,\n",
       " 0.00073119639389029878,\n",
       " -0.000844586097982436,\n",
       " -0.00014950502807453692,\n",
       " -0.0015811372649040534,\n",
       " 2.3151465750048672e-05,\n",
       " -0.00049333263679629535,\n",
       " -0.001312143554356382,\n",
       " ...]"
      ]
     },
     "execution_count": 32,
     "metadata": {},
     "output_type": "execute_result"
    }
   ],
   "source": [
    "p_diffs=[]\n",
    "for _ in range(10000):\n",
    "    new_page_cnvtd_means=np.random.choice([0,1],n_new,p=(p_new,1-p_new)).mean()\n",
    "    old_page_cnvtd_means=np.random.choice([0,1],n_old,p=(p_old,1-p_old)).mean()\n",
    "    p_diffs.append(new_page_cnvtd_means-old_page_cnvtd_means)\n",
    "p_diffs"
   ]
  },
  {
   "cell_type": "markdown",
   "metadata": {},
   "source": [
    "i. Plot a histogram of the **p_diffs**.  Does this plot look like what you expected?  Use the matching problem in the classroom to assure you fully understand what was computed here."
   ]
  },
  {
   "cell_type": "code",
   "execution_count": 33,
   "metadata": {},
   "outputs": [
    {
     "data": {
      "text/plain": [
       "array([ 0.00046303,  0.00220434,  0.00153688, ...,  0.00172989,\n",
       "       -0.00043842, -0.00075499])"
      ]
     },
     "execution_count": 33,
     "metadata": {},
     "output_type": "execute_result"
    }
   ],
   "source": [
    "p_diffs=np.array(p_diffs)\n",
    "p_diffs"
   ]
  },
  {
   "cell_type": "code",
   "execution_count": 34,
   "metadata": {},
   "outputs": [
    {
     "data": {
      "text/plain": [
       "(array([   18.,   126.,   549.,  1435.,  2624.,  2620.,  1723.,   717.,\n",
       "          165.,    23.]),\n",
       " array([ -4.41655036e-03,  -3.54868671e-03,  -2.68082305e-03,\n",
       "         -1.81295939e-03,  -9.45095734e-04,  -7.72320774e-05,\n",
       "          7.90631580e-04,   1.65849524e-03,   2.52635889e-03,\n",
       "          3.39422255e-03,   4.26208621e-03]),\n",
       " <a list of 10 Patch objects>)"
      ]
     },
     "execution_count": 34,
     "metadata": {},
     "output_type": "execute_result"
    },
    {
     "data": {
      "image/png": "[encoded data removed]",
      "text/plain": [
       "<matplotlib.figure.Figure at 0x7fcf34b56a58>"
      ]
     },
     "metadata": {},
     "output_type": "display_data"
    }
   ],
   "source": [
    "plt.hist(p_diffs)"
   ]
  },
  {
   "cell_type": "markdown",
   "metadata": {},
   "source": [
    "j. What proportion of the **p_diffs** are greater than the actual difference observed in **ab_data.csv**?"
   ]
  },
  {
   "cell_type": "code",
   "execution_count": 35,
   "metadata": {},
   "outputs": [
    {
     "data": {
      "text/plain": [
       "0.11880806551510564"
      ]
     },
     "execution_count": 35,
     "metadata": {},
     "output_type": "execute_result"
    }
   ],
   "source": [
    "prob_ncvt=df2.query('landing_page==\"new_page\" and converted==1').count()[0]/df2.query('landing_page == \"new_page\"')['user_id'].nunique()\n",
    "prob_ncvt\n",
    "\n"
   ]
  },
  {
   "cell_type": "code",
   "execution_count": 36,
   "metadata": {},
   "outputs": [
    {
     "data": {
      "text/plain": [
       "0.1203863045004612"
      ]
     },
     "execution_count": 36,
     "metadata": {},
     "output_type": "execute_result"
    }
   ],
   "source": [
    "prob_ocvt=df2.query('landing_page==\"old_page\" and converted==1').count()[0]/df2.query('landing_page==\"old_page\"').count()[0]\n",
    "prob_ocvt"
   ]
  },
  {
   "cell_type": "code",
   "execution_count": 37,
   "metadata": {},
   "outputs": [
    {
     "data": {
      "text/plain": [
       "-0.0015782389853555567"
      ]
     },
     "execution_count": 37,
     "metadata": {},
     "output_type": "execute_result"
    }
   ],
   "source": [
    "obs_diff=prob_ncvt-prob_ocvt\n",
    "obs_diff"
   ]
  },
  {
   "cell_type": "code",
   "execution_count": 38,
   "metadata": {},
   "outputs": [],
   "source": [
    "null_vals=np.random.normal(0,p_diffs.std(),p_diffs.size)"
   ]
  },
  {
   "cell_type": "code",
   "execution_count": 39,
   "metadata": {},
   "outputs": [
    {
     "data": {
      "text/plain": [
       "<matplotlib.lines.Line2D at 0x7fcf34b56978>"
      ]
     },
     "execution_count": 39,
     "metadata": {},
     "output_type": "execute_result"
    },
    {
     "data": {
      "image/png": "[encoded data removed]",
      "text/plain": [
       "<matplotlib.figure.Figure at 0x7fcf34b56748>"
      ]
     },
     "metadata": {},
     "output_type": "display_data"
    }
   ],
   "source": [
    "plt.hist(null_vals)\n",
    "plt.axvline(obs_diff,c='red')"
   ]
  },
  {
   "cell_type": "code",
   "execution_count": 40,
   "metadata": {},
   "outputs": [
    {
     "data": {
      "text/plain": [
       "0.90100000000000002"
      ]
     },
     "execution_count": 40,
     "metadata": {},
     "output_type": "execute_result"
    }
   ],
   "source": [
    "(null_vals>obs_diff).mean()"
   ]
  },
  {
   "cell_type": "markdown",
   "metadata": {},
   "source": [
    "k. In words, explain what you just computed in part **j.**.  What is this value called in scientific studies?  What does this value mean in terms of whether or not there is a difference between the new and old pages?"
   ]
  },
  {
   "cell_type": "markdown",
   "metadata": {},
   "source": [
    "**Put your answer here.**\n",
    "In Scientific studies the calculated  value is called p-value. p value which is .9, is greater than the type1 error rate that is .05 hence null cannot be rejected. so old page conversion rate is better than new page."
   ]
  },
  {
   "cell_type": "markdown",
   "metadata": {},
   "source": [
    "l. We could also use a built-in to achieve similar results.  Though using the built-in might be easier to code, the above portions are a walkthrough of the ideas that are critical to correctly thinking about statistical significance. Fill in the below to calculate the number of conversions for each page, as well as the number of individuals who received each page. Let `n_old` and `n_new` refer the the number of rows associated with the old page and new pages, respectively."
   ]
  },
  {
   "cell_type": "code",
   "execution_count": 41,
   "metadata": {},
   "outputs": [
    {
     "name": "stderr",
     "output_type": "stream",
     "text": [
      "/opt/conda/lib/python3.6/site-packages/statsmodels/compat/pandas.py:56: FutureWarning: The pandas.core.datetools module is deprecated and will be removed in a future version. Please use the pandas.tseries module instead.\n",
      "  from pandas.core import datetools\n"
     ]
    }
   ],
   "source": [
    "import statsmodels.api as sm\n",
    "\n",
    "convert_old = df2.query('landing_page==\"new_page\" and converted==1').count()[0]\n",
    "convert_new = df2.query('landing_page==\"old_page\" and converted==1').count()[0]\n",
    "n_old = df2.query('landing_page==\"new_page\"').count()[0]\n",
    "n_new = df2.query('landing_page==\"old_page\"').count()[0]"
   ]
  },
  {
   "cell_type": "markdown",
   "metadata": {},
   "source": [
    "m. Now use `stats.proportions_ztest` to compute your test statistic and p-value.  [Here](http://knowledgetack.com/python/statsmodels/proportions_ztest/) is a helpful link on using the built in."
   ]
  },
  {
   "cell_type": "code",
   "execution_count": 42,
   "metadata": {},
   "outputs": [],
   "source": [
    "z_score,p_value=sm.stats.proportions_ztest([convert_new,convert_old],[n_new,n_old],alternative='larger')"
   ]
  },
  {
   "cell_type": "code",
   "execution_count": 43,
   "metadata": {},
   "outputs": [
    {
     "data": {
      "text/plain": [
       "(1.3109241984234394, 0.094941687240975514)"
      ]
     },
     "execution_count": 43,
     "metadata": {},
     "output_type": "execute_result"
    }
   ],
   "source": [
    "z_score,p_value"
   ]
  },
  {
   "cell_type": "code",
   "execution_count": 44,
   "metadata": {},
   "outputs": [
    {
     "data": {
      "text/plain": [
       "0.90505831275902449"
      ]
     },
     "execution_count": 44,
     "metadata": {},
     "output_type": "execute_result"
    }
   ],
   "source": [
    "from scipy.stats import norm\n",
    "\n",
    "norm.cdf(z_score)\n",
    " # Tells us how significant our z-score is"
   ]
  },
  {
   "cell_type": "code",
   "execution_count": 45,
   "metadata": {},
   "outputs": [
    {
     "data": {
      "text/plain": [
       "1.959963984540054"
      ]
     },
     "execution_count": 45,
     "metadata": {},
     "output_type": "execute_result"
    }
   ],
   "source": [
    "\n",
    "\n",
    "norm.ppf(1-(0.05/2))\n",
    "## Tells us what our critical value at 95% confidence is"
   ]
  },
  {
   "cell_type": "markdown",
   "metadata": {},
   "source": [
    "n. What do the z-score and p-value you computed in the previous question mean for the conversion rates of the old and new pages?  Do they agree with the findings in parts **j.** and **k.**?"
   ]
  },
  {
   "cell_type": "markdown",
   "metadata": {},
   "source": [
    "**Put your answer here.**\n",
    "The z score is less than critical value at 95% which is 1.9599 hence we fail to reject the null hypothesis. That means the old page is better than or equally good to new page.\n",
    "\n",
    "They agree with the findings in parts j and k above that we cannot reject null hypothesis.\n",
    "\n",
    "\n",
    "\n",
    "\n"
   ]
  },
  {
   "cell_type": "markdown",
   "metadata": {},
   "source": [
    "<a id='regression'></a>\n",
    "### Part III - A regression approach\n",
    "\n",
    "`1.` In this final part, you will see that the result you acheived in the previous A/B test can also be acheived by performing regression.<br><br>\n",
    "\n",
    "a. Since each row is either a conversion or no conversion, what type of regression should you be performing in this case?"
   ]
  },
  {
   "cell_type": "markdown",
   "metadata": {},
   "source": [
    "**Put your answer here.**\n",
    "The logistic regression fits in here because its either yes or no conversion based.\n"
   ]
  },
  {
   "cell_type": "markdown",
   "metadata": {},
   "source": [
    "b. The goal is to use **statsmodels** to fit the regression model you specified in part **a.** to see if there is a significant difference in conversion based on which page a customer receives.  However, you first need to create a colun for the intercept, and create a dummy variable column for which page each user received.  Add an **intercept** column, as well as an **ab_page** column, which is 1 when an individual receives the **treatment** and 0 if **control**."
   ]
  },
  {
   "cell_type": "code",
   "execution_count": 46,
   "metadata": {},
   "outputs": [
    {
     "name": "stderr",
     "output_type": "stream",
     "text": [
      "/opt/conda/lib/python3.6/site-packages/ipykernel_launcher.py:2: SettingWithCopyWarning: \n",
      "A value is trying to be set on a copy of a slice from a DataFrame.\n",
      "Try using .loc[row_indexer,col_indexer] = value instead\n",
      "\n",
      "See the caveats in the documentation: http://pandas.pydata.org/pandas-docs/stable/indexing.html#indexing-view-versus-copy\n",
      "  \n"
     ]
    },
    {
     "data": {
      "text/html": [
       "<div>\n",
       "<style>\n",
       "    .dataframe thead tr:only-child th {\n",
       "        text-align: right;\n",
       "    }\n",
       "\n",
       "    .dataframe thead th {\n",
       "        text-align: left;\n",
       "    }\n",
       "\n",
       "    .dataframe tbody tr th {\n",
       "        vertical-align: top;\n",
       "    }\n",
       "</style>\n",
       "<table border=\"1\" class=\"dataframe\">\n",
       "  <thead>\n",
       "    <tr style=\"text-align: right;\">\n",
       "      <th></th>\n",
       "      <th>user_id</th>\n",
       "      <th>timestamp</th>\n",
       "      <th>group</th>\n",
       "      <th>landing_page</th>\n",
       "      <th>converted</th>\n",
       "      <th>intercept</th>\n",
       "      <th>new_page</th>\n",
       "      <th>old_page</th>\n",
       "    </tr>\n",
       "  </thead>\n",
       "  <tbody>\n",
       "    <tr>\n",
       "      <th>0</th>\n",
       "      <td>851104</td>\n",
       "      <td>2017-01-21 22:11:48.556739</td>\n",
       "      <td>control</td>\n",
       "      <td>old_page</td>\n",
       "      <td>0</td>\n",
       "      <td>1</td>\n",
       "      <td>0</td>\n",
       "      <td>1</td>\n",
       "    </tr>\n",
       "    <tr>\n",
       "      <th>1</th>\n",
       "      <td>804228</td>\n",
       "      <td>2017-01-12 08:01:45.159739</td>\n",
       "      <td>control</td>\n",
       "      <td>old_page</td>\n",
       "      <td>0</td>\n",
       "      <td>1</td>\n",
       "      <td>0</td>\n",
       "      <td>1</td>\n",
       "    </tr>\n",
       "    <tr>\n",
       "      <th>2</th>\n",
       "      <td>661590</td>\n",
       "      <td>2017-01-11 16:55:06.154213</td>\n",
       "      <td>treatment</td>\n",
       "      <td>new_page</td>\n",
       "      <td>0</td>\n",
       "      <td>1</td>\n",
       "      <td>1</td>\n",
       "      <td>0</td>\n",
       "    </tr>\n",
       "    <tr>\n",
       "      <th>3</th>\n",
       "      <td>853541</td>\n",
       "      <td>2017-01-08 18:28:03.143765</td>\n",
       "      <td>treatment</td>\n",
       "      <td>new_page</td>\n",
       "      <td>0</td>\n",
       "      <td>1</td>\n",
       "      <td>1</td>\n",
       "      <td>0</td>\n",
       "    </tr>\n",
       "    <tr>\n",
       "      <th>4</th>\n",
       "      <td>864975</td>\n",
       "      <td>2017-01-21 01:52:26.210827</td>\n",
       "      <td>control</td>\n",
       "      <td>old_page</td>\n",
       "      <td>1</td>\n",
       "      <td>1</td>\n",
       "      <td>0</td>\n",
       "      <td>1</td>\n",
       "    </tr>\n",
       "  </tbody>\n",
       "</table>\n",
       "</div>"
      ],
      "text/plain": [
       "   user_id                   timestamp      group landing_page  converted  \\\n",
       "0   851104  2017-01-21 22:11:48.556739    control     old_page          0   \n",
       "1   804228  2017-01-12 08:01:45.159739    control     old_page          0   \n",
       "2   661590  2017-01-11 16:55:06.154213  treatment     new_page          0   \n",
       "3   853541  2017-01-08 18:28:03.143765  treatment     new_page          0   \n",
       "4   864975  2017-01-21 01:52:26.210827    control     old_page          1   \n",
       "\n",
       "   intercept  new_page  old_page  \n",
       "0          1         0         1  \n",
       "1          1         0         1  \n",
       "2          1         1         0  \n",
       "3          1         1         0  \n",
       "4          1         0         1  "
      ]
     },
     "execution_count": 46,
     "metadata": {},
     "output_type": "execute_result"
    }
   ],
   "source": [
    "df2.head()\n",
    "df2['intercept']=1\n",
    "df2=df2.join(pd.get_dummies(df2['landing_page']))\n",
    "df2.head()"
   ]
  },
  {
   "cell_type": "code",
   "execution_count": 47,
   "metadata": {},
   "outputs": [
    {
     "data": {
      "text/html": [
       "<div>\n",
       "<style>\n",
       "    .dataframe thead tr:only-child th {\n",
       "        text-align: right;\n",
       "    }\n",
       "\n",
       "    .dataframe thead th {\n",
       "        text-align: left;\n",
       "    }\n",
       "\n",
       "    .dataframe tbody tr th {\n",
       "        vertical-align: top;\n",
       "    }\n",
       "</style>\n",
       "<table border=\"1\" class=\"dataframe\">\n",
       "  <thead>\n",
       "    <tr style=\"text-align: right;\">\n",
       "      <th></th>\n",
       "      <th>user_id</th>\n",
       "      <th>timestamp</th>\n",
       "      <th>group</th>\n",
       "      <th>landing_page</th>\n",
       "      <th>converted</th>\n",
       "      <th>intercept</th>\n",
       "      <th>new_page</th>\n",
       "      <th>old_page</th>\n",
       "      <th>ab_page</th>\n",
       "    </tr>\n",
       "  </thead>\n",
       "  <tbody>\n",
       "    <tr>\n",
       "      <th>0</th>\n",
       "      <td>851104</td>\n",
       "      <td>2017-01-21 22:11:48.556739</td>\n",
       "      <td>control</td>\n",
       "      <td>old_page</td>\n",
       "      <td>0</td>\n",
       "      <td>1</td>\n",
       "      <td>0</td>\n",
       "      <td>1</td>\n",
       "      <td>0</td>\n",
       "    </tr>\n",
       "    <tr>\n",
       "      <th>1</th>\n",
       "      <td>804228</td>\n",
       "      <td>2017-01-12 08:01:45.159739</td>\n",
       "      <td>control</td>\n",
       "      <td>old_page</td>\n",
       "      <td>0</td>\n",
       "      <td>1</td>\n",
       "      <td>0</td>\n",
       "      <td>1</td>\n",
       "      <td>0</td>\n",
       "    </tr>\n",
       "    <tr>\n",
       "      <th>2</th>\n",
       "      <td>661590</td>\n",
       "      <td>2017-01-11 16:55:06.154213</td>\n",
       "      <td>treatment</td>\n",
       "      <td>new_page</td>\n",
       "      <td>0</td>\n",
       "      <td>1</td>\n",
       "      <td>1</td>\n",
       "      <td>0</td>\n",
       "      <td>1</td>\n",
       "    </tr>\n",
       "    <tr>\n",
       "      <th>3</th>\n",
       "      <td>853541</td>\n",
       "      <td>2017-01-08 18:28:03.143765</td>\n",
       "      <td>treatment</td>\n",
       "      <td>new_page</td>\n",
       "      <td>0</td>\n",
       "      <td>1</td>\n",
       "      <td>1</td>\n",
       "      <td>0</td>\n",
       "      <td>1</td>\n",
       "    </tr>\n",
       "    <tr>\n",
       "      <th>4</th>\n",
       "      <td>864975</td>\n",
       "      <td>2017-01-21 01:52:26.210827</td>\n",
       "      <td>control</td>\n",
       "      <td>old_page</td>\n",
       "      <td>1</td>\n",
       "      <td>1</td>\n",
       "      <td>0</td>\n",
       "      <td>1</td>\n",
       "      <td>0</td>\n",
       "    </tr>\n",
       "  </tbody>\n",
       "</table>\n",
       "</div>"
      ],
      "text/plain": [
       "   user_id                   timestamp      group landing_page  converted  \\\n",
       "0   851104  2017-01-21 22:11:48.556739    control     old_page          0   \n",
       "1   804228  2017-01-12 08:01:45.159739    control     old_page          0   \n",
       "2   661590  2017-01-11 16:55:06.154213  treatment     new_page          0   \n",
       "3   853541  2017-01-08 18:28:03.143765  treatment     new_page          0   \n",
       "4   864975  2017-01-21 01:52:26.210827    control     old_page          1   \n",
       "\n",
       "   intercept  new_page  old_page  ab_page  \n",
       "0          1         0         1        0  \n",
       "1          1         0         1        0  \n",
       "2          1         1         0        1  \n",
       "3          1         1         0        1  \n",
       "4          1         0         1        0  "
      ]
     },
     "execution_count": 47,
     "metadata": {},
     "output_type": "execute_result"
    }
   ],
   "source": [
    "df2['ab_page']=pd.get_dummies(df2['group'])['treatment']\n",
    "df2.head()"
   ]
  },
  {
   "cell_type": "markdown",
   "metadata": {},
   "source": [
    "c. Use **statsmodels** to import your regression model.  Instantiate the model, and fit the model using the two columns you created in part **b.** to predict whether or not an individual converts."
   ]
  },
  {
   "cell_type": "code",
   "execution_count": 48,
   "metadata": {},
   "outputs": [
    {
     "name": "stdout",
     "output_type": "stream",
     "text": [
      "Optimization terminated successfully.\n",
      "         Current function value: 0.366118\n",
      "         Iterations 6\n"
     ]
    }
   ],
   "source": [
    "mod=sm.Logit(df2['converted'],df2[['intercept','ab_page']])\n",
    "result=mod.fit()"
   ]
  },
  {
   "cell_type": "markdown",
   "metadata": {},
   "source": [
    "d. Provide the summary of your model below, and use it as necessary to answer the following questions."
   ]
  },
  {
   "cell_type": "code",
   "execution_count": 49,
   "metadata": {},
   "outputs": [
    {
     "data": {
      "text/html": [
       "<table class=\"simpletable\">\n",
       "<caption>Logit Regression Results</caption>\n",
       "<tr>\n",
       "  <th>Dep. Variable:</th>     <td>converted</td>    <th>  No. Observations:  </th>   <td>290584</td>   \n",
       "</tr>\n",
       "<tr>\n",
       "  <th>Model:</th>               <td>Logit</td>      <th>  Df Residuals:      </th>   <td>290582</td>   \n",
       "</tr>\n",
       "<tr>\n",
       "  <th>Method:</th>               <td>MLE</td>       <th>  Df Model:          </th>   <td>     1</td>   \n",
       "</tr>\n",
       "<tr>\n",
       "  <th>Date:</th>          <td>Wed, 25 Jul 2018</td> <th>  Pseudo R-squ.:     </th>  <td>8.077e-06</td> \n",
       "</tr>\n",
       "<tr>\n",
       "  <th>Time:</th>              <td>07:36:25</td>     <th>  Log-Likelihood:    </th> <td>-1.0639e+05</td>\n",
       "</tr>\n",
       "<tr>\n",
       "  <th>converged:</th>           <td>True</td>       <th>  LL-Null:           </th> <td>-1.0639e+05</td>\n",
       "</tr>\n",
       "<tr>\n",
       "  <th> </th>                      <td> </td>        <th>  LLR p-value:       </th>   <td>0.1899</td>   \n",
       "</tr>\n",
       "</table>\n",
       "<table class=\"simpletable\">\n",
       "<tr>\n",
       "      <td></td>         <th>coef</th>     <th>std err</th>      <th>z</th>      <th>P>|z|</th>  <th>[0.025</th>    <th>0.975]</th>  \n",
       "</tr>\n",
       "<tr>\n",
       "  <th>intercept</th> <td>   -1.9888</td> <td>    0.008</td> <td> -246.669</td> <td> 0.000</td> <td>   -2.005</td> <td>   -1.973</td>\n",
       "</tr>\n",
       "<tr>\n",
       "  <th>ab_page</th>   <td>   -0.0150</td> <td>    0.011</td> <td>   -1.311</td> <td> 0.190</td> <td>   -0.037</td> <td>    0.007</td>\n",
       "</tr>\n",
       "</table>"
      ],
      "text/plain": [
       "<class 'statsmodels.iolib.summary.Summary'>\n",
       "\"\"\"\n",
       "                           Logit Regression Results                           \n",
       "==============================================================================\n",
       "Dep. Variable:              converted   No. Observations:               290584\n",
       "Model:                          Logit   Df Residuals:                   290582\n",
       "Method:                           MLE   Df Model:                            1\n",
       "Date:                Wed, 25 Jul 2018   Pseudo R-squ.:               8.077e-06\n",
       "Time:                        07:36:25   Log-Likelihood:            -1.0639e+05\n",
       "converged:                       True   LL-Null:                   -1.0639e+05\n",
       "                                        LLR p-value:                    0.1899\n",
       "==============================================================================\n",
       "                 coef    std err          z      P>|z|      [0.025      0.975]\n",
       "------------------------------------------------------------------------------\n",
       "intercept     -1.9888      0.008   -246.669      0.000      -2.005      -1.973\n",
       "ab_page       -0.0150      0.011     -1.311      0.190      -0.037       0.007\n",
       "==============================================================================\n",
       "\"\"\""
      ]
     },
     "execution_count": 49,
     "metadata": {},
     "output_type": "execute_result"
    }
   ],
   "source": [
    "result.summary()"
   ]
  },
  {
   "cell_type": "markdown",
   "metadata": {},
   "source": [
    "e. What is the p-value associated with **ab_page**? Why does it differ from the value you found in the **Part II**?<br><br>  **Hint**: What are the null and alternative hypotheses associated with your regression model, and how do they compare to the null and alternative hypotheses in the **Part II**?"
   ]
  },
  {
   "cell_type": "markdown",
   "metadata": {},
   "source": [
    "**Put your answer here.**\n",
    "the p value is .19 for ab_page. The null hypothesiw here is there is no difference between control n treatment group.Here the comparision is done between groups where as in the part 2 the assumptions are checked using the page."
   ]
  },
  {
   "cell_type": "markdown",
   "metadata": {},
   "source": [
    "Since the pvalue is greater than .05 hence the null cannot be rejected. Which in turn means that the traetment n control group have almost same conversion rate."
   ]
  },
  {
   "cell_type": "raw",
   "metadata": {},
   "source": [
    "f. Now, you are considering other things that might influence whether or not an individual converts.  Discuss why it is a good idea to consider other factors to add into your regression model.  Are there any disadvantages to adding additional terms into your regression model?"
   ]
  },
  {
   "cell_type": "markdown",
   "metadata": {},
   "source": [
    "**Put your answer here.**\n",
    "Having other factors makes us to be more sure about the decision we are taking are good enough to justify our findings. However many additional terms can lead to lot of dependency and can make it tricky to which factors to consider more."
   ]
  },
  {
   "cell_type": "markdown",
   "metadata": {},
   "source": [
    "g. Now along with testing if the conversion rate changes for different pages, also add an effect based on which country a user lives. You will need to read in the **countries.csv** dataset and merge together your datasets on the approporiate rows.  [Here](https://pandas.pydata.org/pandas-docs/stable/generated/pandas.DataFrame.join.html) are the docs for joining tables. \n",
    "\n",
    "Does it appear that country had an impact on conversion?  Don't forget to create dummy variables for these country columns - **Hint: You will need two columns for the three dummy varaibles.** Provide the statistical output as well as a written response to answer this question."
   ]
  },
  {
   "cell_type": "code",
   "execution_count": 50,
   "metadata": {},
   "outputs": [
    {
     "data": {
      "text/plain": [
       "US    203619\n",
       "UK     72466\n",
       "CA     14499\n",
       "Name: country, dtype: int64"
      ]
     },
     "execution_count": 50,
     "metadata": {},
     "output_type": "execute_result"
    }
   ],
   "source": [
    "countries=pd.read_csv('countries.csv')\n",
    "countries['country'].value_counts()\n",
    "#countries['country'].unique()"
   ]
  },
  {
   "cell_type": "code",
   "execution_count": 51,
   "metadata": {},
   "outputs": [
    {
     "data": {
      "text/html": [
       "<div>\n",
       "<style>\n",
       "    .dataframe thead tr:only-child th {\n",
       "        text-align: right;\n",
       "    }\n",
       "\n",
       "    .dataframe thead th {\n",
       "        text-align: left;\n",
       "    }\n",
       "\n",
       "    .dataframe tbody tr th {\n",
       "        vertical-align: top;\n",
       "    }\n",
       "</style>\n",
       "<table border=\"1\" class=\"dataframe\">\n",
       "  <thead>\n",
       "    <tr style=\"text-align: right;\">\n",
       "      <th></th>\n",
       "      <th>country</th>\n",
       "      <th>timestamp</th>\n",
       "      <th>group</th>\n",
       "      <th>landing_page</th>\n",
       "      <th>converted</th>\n",
       "      <th>intercept</th>\n",
       "      <th>new_page</th>\n",
       "      <th>old_page</th>\n",
       "      <th>ab_page</th>\n",
       "      <th>UK_ind</th>\n",
       "      <th>CA_ind</th>\n",
       "    </tr>\n",
       "    <tr>\n",
       "      <th>user_id</th>\n",
       "      <th></th>\n",
       "      <th></th>\n",
       "      <th></th>\n",
       "      <th></th>\n",
       "      <th></th>\n",
       "      <th></th>\n",
       "      <th></th>\n",
       "      <th></th>\n",
       "      <th></th>\n",
       "      <th></th>\n",
       "      <th></th>\n",
       "    </tr>\n",
       "  </thead>\n",
       "  <tbody>\n",
       "    <tr>\n",
       "      <th>834778</th>\n",
       "      <td>UK</td>\n",
       "      <td>2017-01-14 23:08:43.304998</td>\n",
       "      <td>control</td>\n",
       "      <td>old_page</td>\n",
       "      <td>0</td>\n",
       "      <td>1</td>\n",
       "      <td>0</td>\n",
       "      <td>1</td>\n",
       "      <td>0</td>\n",
       "      <td>1</td>\n",
       "      <td>0</td>\n",
       "    </tr>\n",
       "    <tr>\n",
       "      <th>928468</th>\n",
       "      <td>US</td>\n",
       "      <td>2017-01-23 14:44:16.387854</td>\n",
       "      <td>treatment</td>\n",
       "      <td>new_page</td>\n",
       "      <td>0</td>\n",
       "      <td>1</td>\n",
       "      <td>1</td>\n",
       "      <td>0</td>\n",
       "      <td>1</td>\n",
       "      <td>0</td>\n",
       "      <td>0</td>\n",
       "    </tr>\n",
       "    <tr>\n",
       "      <th>822059</th>\n",
       "      <td>UK</td>\n",
       "      <td>2017-01-16 14:04:14.719771</td>\n",
       "      <td>treatment</td>\n",
       "      <td>new_page</td>\n",
       "      <td>1</td>\n",
       "      <td>1</td>\n",
       "      <td>1</td>\n",
       "      <td>0</td>\n",
       "      <td>1</td>\n",
       "      <td>1</td>\n",
       "      <td>0</td>\n",
       "    </tr>\n",
       "    <tr>\n",
       "      <th>711597</th>\n",
       "      <td>UK</td>\n",
       "      <td>2017-01-22 03:14:24.763511</td>\n",
       "      <td>control</td>\n",
       "      <td>old_page</td>\n",
       "      <td>0</td>\n",
       "      <td>1</td>\n",
       "      <td>0</td>\n",
       "      <td>1</td>\n",
       "      <td>0</td>\n",
       "      <td>1</td>\n",
       "      <td>0</td>\n",
       "    </tr>\n",
       "    <tr>\n",
       "      <th>710616</th>\n",
       "      <td>UK</td>\n",
       "      <td>2017-01-16 13:14:44.000513</td>\n",
       "      <td>treatment</td>\n",
       "      <td>new_page</td>\n",
       "      <td>0</td>\n",
       "      <td>1</td>\n",
       "      <td>1</td>\n",
       "      <td>0</td>\n",
       "      <td>1</td>\n",
       "      <td>1</td>\n",
       "      <td>0</td>\n",
       "    </tr>\n",
       "  </tbody>\n",
       "</table>\n",
       "</div>"
      ],
      "text/plain": [
       "        country                   timestamp      group landing_page  \\\n",
       "user_id                                                               \n",
       "834778       UK  2017-01-14 23:08:43.304998    control     old_page   \n",
       "928468       US  2017-01-23 14:44:16.387854  treatment     new_page   \n",
       "822059       UK  2017-01-16 14:04:14.719771  treatment     new_page   \n",
       "711597       UK  2017-01-22 03:14:24.763511    control     old_page   \n",
       "710616       UK  2017-01-16 13:14:44.000513  treatment     new_page   \n",
       "\n",
       "         converted  intercept  new_page  old_page  ab_page  UK_ind  CA_ind  \n",
       "user_id                                                                     \n",
       "834778           0          1         0         1        0       1       0  \n",
       "928468           0          1         1         0        1       0       0  \n",
       "822059           1          1         1         0        1       1       0  \n",
       "711597           0          1         0         1        0       1       0  \n",
       "710616           0          1         1         0        1       1       0  "
      ]
     },
     "execution_count": 51,
     "metadata": {},
     "output_type": "execute_result"
    }
   ],
   "source": [
    "#df3 = df2.merge(countries, on ='user_id', how='left')\n",
    "#df3\n",
    "joined_data = countries.set_index('user_id').join(df2.set_index('user_id'), how = 'inner')\n",
    "#adding dummy variables with 'US' as the baseline\n",
    "joined_data[['UK_ind', 'CA_ind']] = pd.get_dummies(joined_data['country'])[['UK', \"CA\"]]\n",
    "joined_data.head()"
   ]
  },
  {
   "cell_type": "code",
   "execution_count": 52,
   "metadata": {},
   "outputs": [
    {
     "data": {
      "text/html": [
       "<div>\n",
       "<style>\n",
       "    .dataframe thead tr:only-child th {\n",
       "        text-align: right;\n",
       "    }\n",
       "\n",
       "    .dataframe thead th {\n",
       "        text-align: left;\n",
       "    }\n",
       "\n",
       "    .dataframe tbody tr th {\n",
       "        vertical-align: top;\n",
       "    }\n",
       "</style>\n",
       "<table border=\"1\" class=\"dataframe\">\n",
       "  <thead>\n",
       "    <tr style=\"text-align: right;\">\n",
       "      <th></th>\n",
       "      <th>country</th>\n",
       "      <th>timestamp</th>\n",
       "      <th>group</th>\n",
       "      <th>landing_page</th>\n",
       "      <th>converted</th>\n",
       "      <th>intercept</th>\n",
       "      <th>new_page</th>\n",
       "      <th>old_page</th>\n",
       "      <th>ab_page</th>\n",
       "      <th>UK_ind</th>\n",
       "      <th>CA_ind</th>\n",
       "      <th>UK_ind_ab_page</th>\n",
       "      <th>CA_ind_ab_page</th>\n",
       "    </tr>\n",
       "    <tr>\n",
       "      <th>user_id</th>\n",
       "      <th></th>\n",
       "      <th></th>\n",
       "      <th></th>\n",
       "      <th></th>\n",
       "      <th></th>\n",
       "      <th></th>\n",
       "      <th></th>\n",
       "      <th></th>\n",
       "      <th></th>\n",
       "      <th></th>\n",
       "      <th></th>\n",
       "      <th></th>\n",
       "      <th></th>\n",
       "    </tr>\n",
       "  </thead>\n",
       "  <tbody>\n",
       "    <tr>\n",
       "      <th>834778</th>\n",
       "      <td>UK</td>\n",
       "      <td>2017-01-14 23:08:43.304998</td>\n",
       "      <td>control</td>\n",
       "      <td>old_page</td>\n",
       "      <td>0</td>\n",
       "      <td>1</td>\n",
       "      <td>0</td>\n",
       "      <td>1</td>\n",
       "      <td>0</td>\n",
       "      <td>1</td>\n",
       "      <td>0</td>\n",
       "      <td>0</td>\n",
       "      <td>0</td>\n",
       "    </tr>\n",
       "    <tr>\n",
       "      <th>928468</th>\n",
       "      <td>US</td>\n",
       "      <td>2017-01-23 14:44:16.387854</td>\n",
       "      <td>treatment</td>\n",
       "      <td>new_page</td>\n",
       "      <td>0</td>\n",
       "      <td>1</td>\n",
       "      <td>1</td>\n",
       "      <td>0</td>\n",
       "      <td>1</td>\n",
       "      <td>0</td>\n",
       "      <td>0</td>\n",
       "      <td>0</td>\n",
       "      <td>0</td>\n",
       "    </tr>\n",
       "    <tr>\n",
       "      <th>822059</th>\n",
       "      <td>UK</td>\n",
       "      <td>2017-01-16 14:04:14.719771</td>\n",
       "      <td>treatment</td>\n",
       "      <td>new_page</td>\n",
       "      <td>1</td>\n",
       "      <td>1</td>\n",
       "      <td>1</td>\n",
       "      <td>0</td>\n",
       "      <td>1</td>\n",
       "      <td>1</td>\n",
       "      <td>0</td>\n",
       "      <td>1</td>\n",
       "      <td>0</td>\n",
       "    </tr>\n",
       "    <tr>\n",
       "      <th>711597</th>\n",
       "      <td>UK</td>\n",
       "      <td>2017-01-22 03:14:24.763511</td>\n",
       "      <td>control</td>\n",
       "      <td>old_page</td>\n",
       "      <td>0</td>\n",
       "      <td>1</td>\n",
       "      <td>0</td>\n",
       "      <td>1</td>\n",
       "      <td>0</td>\n",
       "      <td>1</td>\n",
       "      <td>0</td>\n",
       "      <td>0</td>\n",
       "      <td>0</td>\n",
       "    </tr>\n",
       "    <tr>\n",
       "      <th>710616</th>\n",
       "      <td>UK</td>\n",
       "      <td>2017-01-16 13:14:44.000513</td>\n",
       "      <td>treatment</td>\n",
       "      <td>new_page</td>\n",
       "      <td>0</td>\n",
       "      <td>1</td>\n",
       "      <td>1</td>\n",
       "      <td>0</td>\n",
       "      <td>1</td>\n",
       "      <td>1</td>\n",
       "      <td>0</td>\n",
       "      <td>1</td>\n",
       "      <td>0</td>\n",
       "    </tr>\n",
       "  </tbody>\n",
       "</table>\n",
       "</div>"
      ],
      "text/plain": [
       "        country                   timestamp      group landing_page  \\\n",
       "user_id                                                               \n",
       "834778       UK  2017-01-14 23:08:43.304998    control     old_page   \n",
       "928468       US  2017-01-23 14:44:16.387854  treatment     new_page   \n",
       "822059       UK  2017-01-16 14:04:14.719771  treatment     new_page   \n",
       "711597       UK  2017-01-22 03:14:24.763511    control     old_page   \n",
       "710616       UK  2017-01-16 13:14:44.000513  treatment     new_page   \n",
       "\n",
       "         converted  intercept  new_page  old_page  ab_page  UK_ind  CA_ind  \\\n",
       "user_id                                                                      \n",
       "834778           0          1         0         1        0       1       0   \n",
       "928468           0          1         1         0        1       0       0   \n",
       "822059           1          1         1         0        1       1       0   \n",
       "711597           0          1         0         1        0       1       0   \n",
       "710616           0          1         1         0        1       1       0   \n",
       "\n",
       "         UK_ind_ab_page  CA_ind_ab_page  \n",
       "user_id                                  \n",
       "834778                0               0  \n",
       "928468                0               0  \n",
       "822059                1               0  \n",
       "711597                0               0  \n",
       "710616                1               0  "
      ]
     },
     "execution_count": 52,
     "metadata": {},
     "output_type": "execute_result"
    }
   ],
   "source": [
    "joined_data['UK_ind_ab_page'] = joined_data['UK_ind']*joined_data['ab_page']\n",
    "joined_data['CA_ind_ab_page'] = joined_data['CA_ind']*joined_data['ab_page']\n",
    "joined_data.head()\n"
   ]
  },
  {
   "cell_type": "code",
   "execution_count": 53,
   "metadata": {},
   "outputs": [
    {
     "name": "stdout",
     "output_type": "stream",
     "text": [
      "Optimization terminated successfully.\n",
      "         Current function value: 0.366109\n",
      "         Iterations 6\n"
     ]
    }
   ],
   "source": [
    "logit3 = sm.Logit(joined_data['converted'], joined_data[['intercept', 'ab_page', 'UK_ind', 'CA_ind', 'UK_ind_ab_page', 'CA_ind_ab_page']])\n",
    "result3 = logit3.fit()\n"
   ]
  },
  {
   "cell_type": "markdown",
   "metadata": {},
   "source": [
    "h. Though you have now looked at the individual factors of country and page on conversion, we would now like to look at an interaction between page and country to see if there significant effects on conversion.  Create the necessary additional columns, and fit the new model.  \n",
    "\n",
    "Provide the summary results, and your conclusions based on the results."
   ]
  },
  {
   "cell_type": "code",
   "execution_count": 54,
   "metadata": {},
   "outputs": [
    {
     "data": {
      "text/html": [
       "<table class=\"simpletable\">\n",
       "<caption>Logit Regression Results</caption>\n",
       "<tr>\n",
       "  <th>Dep. Variable:</th>     <td>converted</td>    <th>  No. Observations:  </th>   <td>290584</td>   \n",
       "</tr>\n",
       "<tr>\n",
       "  <th>Model:</th>               <td>Logit</td>      <th>  Df Residuals:      </th>   <td>290578</td>   \n",
       "</tr>\n",
       "<tr>\n",
       "  <th>Method:</th>               <td>MLE</td>       <th>  Df Model:          </th>   <td>     5</td>   \n",
       "</tr>\n",
       "<tr>\n",
       "  <th>Date:</th>          <td>Wed, 25 Jul 2018</td> <th>  Pseudo R-squ.:     </th>  <td>3.482e-05</td> \n",
       "</tr>\n",
       "<tr>\n",
       "  <th>Time:</th>              <td>07:36:26</td>     <th>  Log-Likelihood:    </th> <td>-1.0639e+05</td>\n",
       "</tr>\n",
       "<tr>\n",
       "  <th>converged:</th>           <td>True</td>       <th>  LL-Null:           </th> <td>-1.0639e+05</td>\n",
       "</tr>\n",
       "<tr>\n",
       "  <th> </th>                      <td> </td>        <th>  LLR p-value:       </th>   <td>0.1920</td>   \n",
       "</tr>\n",
       "</table>\n",
       "<table class=\"simpletable\">\n",
       "<tr>\n",
       "         <td></td>           <th>coef</th>     <th>std err</th>      <th>z</th>      <th>P>|z|</th>  <th>[0.025</th>    <th>0.975]</th>  \n",
       "</tr>\n",
       "<tr>\n",
       "  <th>intercept</th>      <td>   -1.9865</td> <td>    0.010</td> <td> -206.344</td> <td> 0.000</td> <td>   -2.005</td> <td>   -1.968</td>\n",
       "</tr>\n",
       "<tr>\n",
       "  <th>ab_page</th>        <td>   -0.0206</td> <td>    0.014</td> <td>   -1.505</td> <td> 0.132</td> <td>   -0.047</td> <td>    0.006</td>\n",
       "</tr>\n",
       "<tr>\n",
       "  <th>UK_ind</th>         <td>   -0.0057</td> <td>    0.019</td> <td>   -0.306</td> <td> 0.760</td> <td>   -0.043</td> <td>    0.031</td>\n",
       "</tr>\n",
       "<tr>\n",
       "  <th>CA_ind</th>         <td>   -0.0175</td> <td>    0.038</td> <td>   -0.465</td> <td> 0.642</td> <td>   -0.091</td> <td>    0.056</td>\n",
       "</tr>\n",
       "<tr>\n",
       "  <th>UK_ind_ab_page</th> <td>    0.0314</td> <td>    0.027</td> <td>    1.181</td> <td> 0.238</td> <td>   -0.021</td> <td>    0.084</td>\n",
       "</tr>\n",
       "<tr>\n",
       "  <th>CA_ind_ab_page</th> <td>   -0.0469</td> <td>    0.054</td> <td>   -0.872</td> <td> 0.383</td> <td>   -0.152</td> <td>    0.059</td>\n",
       "</tr>\n",
       "</table>"
      ],
      "text/plain": [
       "<class 'statsmodels.iolib.summary.Summary'>\n",
       "\"\"\"\n",
       "                           Logit Regression Results                           \n",
       "==============================================================================\n",
       "Dep. Variable:              converted   No. Observations:               290584\n",
       "Model:                          Logit   Df Residuals:                   290578\n",
       "Method:                           MLE   Df Model:                            5\n",
       "Date:                Wed, 25 Jul 2018   Pseudo R-squ.:               3.482e-05\n",
       "Time:                        07:36:26   Log-Likelihood:            -1.0639e+05\n",
       "converged:                       True   LL-Null:                   -1.0639e+05\n",
       "                                        LLR p-value:                    0.1920\n",
       "==================================================================================\n",
       "                     coef    std err          z      P>|z|      [0.025      0.975]\n",
       "----------------------------------------------------------------------------------\n",
       "intercept         -1.9865      0.010   -206.344      0.000      -2.005      -1.968\n",
       "ab_page           -0.0206      0.014     -1.505      0.132      -0.047       0.006\n",
       "UK_ind            -0.0057      0.019     -0.306      0.760      -0.043       0.031\n",
       "CA_ind            -0.0175      0.038     -0.465      0.642      -0.091       0.056\n",
       "UK_ind_ab_page     0.0314      0.027      1.181      0.238      -0.021       0.084\n",
       "CA_ind_ab_page    -0.0469      0.054     -0.872      0.383      -0.152       0.059\n",
       "==================================================================================\n",
       "\"\"\""
      ]
     },
     "execution_count": 54,
     "metadata": {},
     "output_type": "execute_result"
    }
   ],
   "source": [
    "result3.summary()"
   ]
  },
  {
   "cell_type": "markdown",
   "metadata": {},
   "source": [
    "intercept's p-value is less than 0.05, which is statistically significant enough for converted rate. Other variable in the summary are not statistically significant. \n",
    "Also,Z-score for all variables are not large enough to be significant for predicting converted rate.\n",
    "for every unit decrease considering one variable at a time and others constant\n",
    "a)the ab_page convert will happen at the rate of 2.1%\n",
    "b)the CA country wise convert will happen at rateof 1.75%\n",
    "\n",
    "c)the UK country wise convert will happen at the rate of almost 5.7%\n",
    "d)the CA will have more conversion than US with 4.7% rate keeping other variables constant\n",
    "e)The UK will have more conversion than US with 3.14% rate keeping other variables constant."
   ]
  },
  {
   "cell_type": "markdown",
   "metadata": {},
   "source": [
    "<a id='conclusions'></a>\n",
    "## Finishing Up\n",
    "\n",
    "> Congratulations!  You have reached the end of the A/B Test Results project!  This is the final project in Term 1.  You should be very proud of all you have accomplished!\n",
    "\n",
    "\n",
    "## Directions to Submit\n",
    "\n",
    "> Before you submit your project, you need to create a .html or .pdf version of this notebook in the workspace here. To do that, run the code cell below. If it worked correctly, you should get a return code of 0, and you should see the generated .html file in the workspace directory (click on the orange Jupyter icon in the upper left).\n",
    "\n",
    "> Alternatively, you can download this report as .html via the **File** > **Download as** submenu, and then manually upload it into the workspace directory by clicking on the orange Jupyter icon in the upper left, then using the Upload button.\n",
    "\n",
    "> Once you've done this, you can submit your project by clicking on the \"Submit Project\" button in the lower right here. This will create and submit a zip file with this .ipynb doc and the .html or .pdf version you created. Congratulations!"
   ]
  },
  {
   "cell_type": "code",
   "execution_count": 55,
   "metadata": {},
   "outputs": [
    {
     "data": {
      "text/plain": [
       "0"
      ]
     },
     "execution_count": 55,
     "metadata": {},
     "output_type": "execute_result"
    }
   ],
   "source": [
    "from subprocess import call\n",
    "call(['python', '-m', 'nbconvert', 'Analyze_ab_test_results_notebook.ipynb'])"
   ]
  },
  {
   "cell_type": "code",
   "execution_count": null,
   "metadata": {},
   "outputs": [],
   "source": []
  }
 ],
 "metadata": {
  "kernelspec": {
   "display_name": "Python 3",
   "language": "python",
   "name": "python3"
  },
  "language_info": {
   "codemirror_mode": {
    "name": "ipython",
    "version": 3
   },
   "file_extension": ".py",
   "mimetype": "text/x-python",
   "name": "python",
   "nbconvert_exporter": "python",
   "pygments_lexer": "ipython3",
   "version": "3.6.3"
  }
 },
 "nbformat": 4,
 "nbformat_minor": 2
}
